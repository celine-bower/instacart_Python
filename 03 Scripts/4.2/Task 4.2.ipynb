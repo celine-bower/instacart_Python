{
 "cells": [
  {
   "cell_type": "markdown",
   "id": "c7780e6b",
   "metadata": {},
   "source": [
    "# 01. Import Libraries"
   ]
  },
  {
   "cell_type": "code",
   "execution_count": 1,
   "id": "4f1d16fd",
   "metadata": {},
   "outputs": [],
   "source": [
    "# Import Libraries\n",
    "import pandas as pd\n",
    "import numpy as np\n",
    "import os"
   ]
  },
  {
   "cell_type": "markdown",
   "id": "d946cb26",
   "metadata": {},
   "source": [
    "# 02. Python Data Types"
   ]
  },
  {
   "cell_type": "code",
   "execution_count": 3,
   "id": "aa91b892",
   "metadata": {},
   "outputs": [],
   "source": [
    "a = 40"
   ]
  },
  {
   "cell_type": "code",
   "execution_count": 4,
   "id": "886869ee",
   "metadata": {},
   "outputs": [],
   "source": [
    "b = 60"
   ]
  },
  {
   "cell_type": "code",
   "execution_count": 5,
   "id": "ef99a9f6",
   "metadata": {},
   "outputs": [
    {
     "data": {
      "text/plain": [
       "100"
      ]
     },
     "execution_count": 5,
     "metadata": {},
     "output_type": "execute_result"
    }
   ],
   "source": [
    "a + b"
   ]
  },
  {
   "cell_type": "code",
   "execution_count": 6,
   "id": "c4ea5c45",
   "metadata": {},
   "outputs": [],
   "source": [
    "c = 150"
   ]
  },
  {
   "cell_type": "code",
   "execution_count": 7,
   "id": "0feb3076",
   "metadata": {},
   "outputs": [],
   "source": [
    "d = 50"
   ]
  },
  {
   "cell_type": "code",
   "execution_count": 8,
   "id": "dd8a90dc",
   "metadata": {},
   "outputs": [
    {
     "data": {
      "text/plain": [
       "100"
      ]
     },
     "execution_count": 8,
     "metadata": {},
     "output_type": "execute_result"
    }
   ],
   "source": [
    "c - d"
   ]
  },
  {
   "cell_type": "code",
   "execution_count": 10,
   "id": "8c2c8bf6",
   "metadata": {},
   "outputs": [
    {
     "data": {
      "text/plain": [
       "100"
      ]
     },
     "execution_count": 10,
     "metadata": {},
     "output_type": "execute_result"
    }
   ],
   "source": [
    "2 * d"
   ]
  },
  {
   "cell_type": "code",
   "execution_count": 11,
   "id": "7c7d8fc3",
   "metadata": {},
   "outputs": [],
   "source": [
    "e = 146.4289"
   ]
  },
  {
   "cell_type": "code",
   "execution_count": 12,
   "id": "7c71d2a2",
   "metadata": {},
   "outputs": [],
   "source": [
    "f = 4.55"
   ]
  },
  {
   "cell_type": "code",
   "execution_count": 13,
   "id": "a2f305c8",
   "metadata": {},
   "outputs": [
    {
     "data": {
      "text/plain": [
       "32.18217582417582"
      ]
     },
     "execution_count": 13,
     "metadata": {},
     "output_type": "execute_result"
    }
   ],
   "source": [
    "e / f"
   ]
  },
  {
   "cell_type": "code",
   "execution_count": 20,
   "id": "99ddc80a",
   "metadata": {},
   "outputs": [],
   "source": [
    "aa = 'ball'"
   ]
  },
  {
   "cell_type": "code",
   "execution_count": 19,
   "id": "4ee2063d",
   "metadata": {},
   "outputs": [],
   "source": [
    "bb = 'park'"
   ]
  },
  {
   "cell_type": "code",
   "execution_count": 21,
   "id": "60ec8508",
   "metadata": {},
   "outputs": [
    {
     "data": {
      "text/plain": [
       "'ballpark'"
      ]
     },
     "execution_count": 21,
     "metadata": {},
     "output_type": "execute_result"
    }
   ],
   "source": [
    "aa + bb"
   ]
  },
  {
   "cell_type": "code",
   "execution_count": 15,
   "id": "011351a3",
   "metadata": {},
   "outputs": [],
   "source": [
    "g = 'Happy '"
   ]
  },
  {
   "cell_type": "code",
   "execution_count": 16,
   "id": "a18d617c",
   "metadata": {},
   "outputs": [],
   "source": [
    "h = 'Memorial '"
   ]
  },
  {
   "cell_type": "code",
   "execution_count": 17,
   "id": "09d3db80",
   "metadata": {},
   "outputs": [],
   "source": [
    "i = 'Day!'"
   ]
  },
  {
   "cell_type": "code",
   "execution_count": 18,
   "id": "48169cd1",
   "metadata": {},
   "outputs": [
    {
     "data": {
      "text/plain": [
       "'Happy Memorial Day!'"
      ]
     },
     "execution_count": 18,
     "metadata": {},
     "output_type": "execute_result"
    }
   ],
   "source": [
    "g + h + i"
   ]
  },
  {
   "cell_type": "code",
   "execution_count": 23,
   "id": "8aa1b09f",
   "metadata": {},
   "outputs": [],
   "source": [
    "j = 'Today '"
   ]
  },
  {
   "cell_type": "code",
   "execution_count": 24,
   "id": "f6d38e10",
   "metadata": {},
   "outputs": [],
   "source": [
    "k = 'is '"
   ]
  },
  {
   "cell_type": "code",
   "execution_count": 25,
   "id": "373495f9",
   "metadata": {},
   "outputs": [],
   "source": [
    "l = 'a '"
   ]
  },
  {
   "cell_type": "code",
   "execution_count": 26,
   "id": "ba4aae91",
   "metadata": {},
   "outputs": [],
   "source": [
    "m = 'perfect '"
   ]
  },
  {
   "cell_type": "code",
   "execution_count": 27,
   "id": "a1425df0",
   "metadata": {},
   "outputs": [],
   "source": [
    "n = 'day'"
   ]
  },
  {
   "cell_type": "code",
   "execution_count": 28,
   "id": "ba35b286",
   "metadata": {},
   "outputs": [],
   "source": [
    "o = '!'"
   ]
  },
  {
   "cell_type": "code",
   "execution_count": 29,
   "id": "80a0cb6b",
   "metadata": {},
   "outputs": [
    {
     "data": {
      "text/plain": [
       "'Today is a perfect day!'"
      ]
     },
     "execution_count": 29,
     "metadata": {},
     "output_type": "execute_result"
    }
   ],
   "source": [
    "j + k + l + m + n + o"
   ]
  },
  {
   "cell_type": "code",
   "execution_count": 1,
   "id": "c60e193a",
   "metadata": {},
   "outputs": [],
   "source": [
    "p = 'panda'"
   ]
  },
  {
   "cell_type": "code",
   "execution_count": 3,
   "id": "19014859",
   "metadata": {},
   "outputs": [
    {
     "data": {
      "text/plain": [
       "'pandapandapandapandapandapandapandapandapandapandapandapandapandapandapandapandapandapandapandapandapandapandapandapandapandapandapandapandapandapandapandapandapandapandapandapandapandapandapandapandapandapandapandapandapandapandapandapandapandapandapandapandapandapandapandapandapandapandapandapandapandapandapandapandapandapandapandapandapandapandapandapandapandapandapandapandapandapandapandapandapandapandapandapandapandapandapandapandapandapandapandapandapandapandapandapandapandapandapandapanda'"
      ]
     },
     "execution_count": 3,
     "metadata": {},
     "output_type": "execute_result"
    }
   ],
   "source": [
    "p * 100"
   ]
  },
  {
   "cell_type": "code",
   "execution_count": null,
   "id": "b3bebc75",
   "metadata": {},
   "outputs": [],
   "source": []
  }
 ],
 "metadata": {
  "kernelspec": {
   "display_name": "Python 3 (ipykernel)",
   "language": "python",
   "name": "python3"
  },
  "language_info": {
   "codemirror_mode": {
    "name": "ipython",
    "version": 3
   },
   "file_extension": ".py",
   "mimetype": "text/x-python",
   "name": "python",
   "nbconvert_exporter": "python",
   "pygments_lexer": "ipython3",
   "version": "3.10.9"
  }
 },
 "nbformat": 4,
 "nbformat_minor": 5
}
