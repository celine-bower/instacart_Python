{
 "cells": [
  {
   "cell_type": "markdown",
   "id": "de22e651",
   "metadata": {},
   "source": [
    "# Task 4.10 - Part 1.3"
   ]
  },
  {
   "cell_type": "code",
   "execution_count": 1,
   "id": "959544ae",
   "metadata": {},
   "outputs": [],
   "source": [
    "# Import libraries\n",
    "\n",
    "import pandas as pd\n",
    "import numpy as np\n",
    "import os\n",
    "import matplotlib.pyplot as plt\n",
    "import seaborn as sns\n",
    "import scipy"
   ]
  },
  {
   "cell_type": "code",
   "execution_count": 2,
   "id": "7637b10f",
   "metadata": {},
   "outputs": [],
   "source": [
    "path = r'C:\\Users\\celin\\OneDrive\\Desktop\\Career Foundry\\Instacart Basket Analysis 5.23'"
   ]
  },
  {
   "cell_type": "code",
   "execution_count": 3,
   "id": "db1f1d6d",
   "metadata": {},
   "outputs": [],
   "source": [
    "# Import data \n",
    "df = pd.read_pickle(os.path.join(path, '02 Data', 'Prepared data', 'merged_added_columns.pkl')) "
   ]
  },
  {
   "cell_type": "code",
   "execution_count": 4,
   "id": "7079f478",
   "metadata": {},
   "outputs": [
    {
     "data": {
      "text/html": [
       "<div>\n",
       "<style scoped>\n",
       "    .dataframe tbody tr th:only-of-type {\n",
       "        vertical-align: middle;\n",
       "    }\n",
       "\n",
       "    .dataframe tbody tr th {\n",
       "        vertical-align: top;\n",
       "    }\n",
       "\n",
       "    .dataframe thead th {\n",
       "        text-align: right;\n",
       "    }\n",
       "</style>\n",
       "<table border=\"1\" class=\"dataframe\">\n",
       "  <thead>\n",
       "    <tr style=\"text-align: right;\">\n",
       "      <th></th>\n",
       "      <th>order_id</th>\n",
       "      <th>user_id</th>\n",
       "      <th>order_number</th>\n",
       "      <th>orders_day_of_week</th>\n",
       "      <th>order_hour_of_day</th>\n",
       "      <th>days_since_prior_order</th>\n",
       "      <th>product_id</th>\n",
       "      <th>add_to_cart_order</th>\n",
       "      <th>reordered</th>\n",
       "      <th>product_name</th>\n",
       "      <th>...</th>\n",
       "      <th>fam_status</th>\n",
       "      <th>income</th>\n",
       "      <th>_merge</th>\n",
       "      <th>Customer_Region</th>\n",
       "      <th>revenue_exclusion_flag</th>\n",
       "      <th>caregiving_status</th>\n",
       "      <th>wealth</th>\n",
       "      <th>meat/seafood</th>\n",
       "      <th>alcohol</th>\n",
       "      <th>age_groups</th>\n",
       "    </tr>\n",
       "  </thead>\n",
       "  <tbody>\n",
       "    <tr>\n",
       "      <th>0</th>\n",
       "      <td>2539329</td>\n",
       "      <td>1</td>\n",
       "      <td>1</td>\n",
       "      <td>2</td>\n",
       "      <td>8</td>\n",
       "      <td>NaN</td>\n",
       "      <td>196</td>\n",
       "      <td>1</td>\n",
       "      <td>0</td>\n",
       "      <td>Soda</td>\n",
       "      <td>...</td>\n",
       "      <td>married</td>\n",
       "      <td>40423</td>\n",
       "      <td>both</td>\n",
       "      <td>South Region</td>\n",
       "      <td>High-activity customer</td>\n",
       "      <td>caregiver</td>\n",
       "      <td>lower</td>\n",
       "      <td>non_meat_eater</td>\n",
       "      <td>non_alcohol_consumer</td>\n",
       "      <td>30-39</td>\n",
       "    </tr>\n",
       "    <tr>\n",
       "      <th>1</th>\n",
       "      <td>2398795</td>\n",
       "      <td>1</td>\n",
       "      <td>2</td>\n",
       "      <td>3</td>\n",
       "      <td>7</td>\n",
       "      <td>15.0</td>\n",
       "      <td>196</td>\n",
       "      <td>1</td>\n",
       "      <td>1</td>\n",
       "      <td>Soda</td>\n",
       "      <td>...</td>\n",
       "      <td>married</td>\n",
       "      <td>40423</td>\n",
       "      <td>both</td>\n",
       "      <td>South Region</td>\n",
       "      <td>High-activity customer</td>\n",
       "      <td>caregiver</td>\n",
       "      <td>lower</td>\n",
       "      <td>non_meat_eater</td>\n",
       "      <td>non_alcohol_consumer</td>\n",
       "      <td>30-39</td>\n",
       "    </tr>\n",
       "    <tr>\n",
       "      <th>2</th>\n",
       "      <td>473747</td>\n",
       "      <td>1</td>\n",
       "      <td>3</td>\n",
       "      <td>3</td>\n",
       "      <td>12</td>\n",
       "      <td>21.0</td>\n",
       "      <td>196</td>\n",
       "      <td>1</td>\n",
       "      <td>1</td>\n",
       "      <td>Soda</td>\n",
       "      <td>...</td>\n",
       "      <td>married</td>\n",
       "      <td>40423</td>\n",
       "      <td>both</td>\n",
       "      <td>South Region</td>\n",
       "      <td>High-activity customer</td>\n",
       "      <td>caregiver</td>\n",
       "      <td>lower</td>\n",
       "      <td>non_meat_eater</td>\n",
       "      <td>non_alcohol_consumer</td>\n",
       "      <td>30-39</td>\n",
       "    </tr>\n",
       "    <tr>\n",
       "      <th>3</th>\n",
       "      <td>2254736</td>\n",
       "      <td>1</td>\n",
       "      <td>4</td>\n",
       "      <td>4</td>\n",
       "      <td>7</td>\n",
       "      <td>29.0</td>\n",
       "      <td>196</td>\n",
       "      <td>1</td>\n",
       "      <td>1</td>\n",
       "      <td>Soda</td>\n",
       "      <td>...</td>\n",
       "      <td>married</td>\n",
       "      <td>40423</td>\n",
       "      <td>both</td>\n",
       "      <td>South Region</td>\n",
       "      <td>High-activity customer</td>\n",
       "      <td>caregiver</td>\n",
       "      <td>lower</td>\n",
       "      <td>non_meat_eater</td>\n",
       "      <td>non_alcohol_consumer</td>\n",
       "      <td>30-39</td>\n",
       "    </tr>\n",
       "    <tr>\n",
       "      <th>4</th>\n",
       "      <td>431534</td>\n",
       "      <td>1</td>\n",
       "      <td>5</td>\n",
       "      <td>4</td>\n",
       "      <td>15</td>\n",
       "      <td>28.0</td>\n",
       "      <td>196</td>\n",
       "      <td>1</td>\n",
       "      <td>1</td>\n",
       "      <td>Soda</td>\n",
       "      <td>...</td>\n",
       "      <td>married</td>\n",
       "      <td>40423</td>\n",
       "      <td>both</td>\n",
       "      <td>South Region</td>\n",
       "      <td>High-activity customer</td>\n",
       "      <td>caregiver</td>\n",
       "      <td>lower</td>\n",
       "      <td>non_meat_eater</td>\n",
       "      <td>non_alcohol_consumer</td>\n",
       "      <td>30-39</td>\n",
       "    </tr>\n",
       "  </tbody>\n",
       "</table>\n",
       "<p>5 rows × 40 columns</p>\n",
       "</div>"
      ],
      "text/plain": [
       "   order_id  user_id  order_number  orders_day_of_week  order_hour_of_day  \\\n",
       "0   2539329        1             1                   2                  8   \n",
       "1   2398795        1             2                   3                  7   \n",
       "2    473747        1             3                   3                 12   \n",
       "3   2254736        1             4                   4                  7   \n",
       "4    431534        1             5                   4                 15   \n",
       "\n",
       "   days_since_prior_order  product_id  add_to_cart_order  reordered  \\\n",
       "0                     NaN         196                  1          0   \n",
       "1                    15.0         196                  1          1   \n",
       "2                    21.0         196                  1          1   \n",
       "3                    29.0         196                  1          1   \n",
       "4                    28.0         196                  1          1   \n",
       "\n",
       "  product_name  ...  fam_status  income  _merge Customer_Region  \\\n",
       "0         Soda  ...     married   40423    both    South Region   \n",
       "1         Soda  ...     married   40423    both    South Region   \n",
       "2         Soda  ...     married   40423    both    South Region   \n",
       "3         Soda  ...     married   40423    both    South Region   \n",
       "4         Soda  ...     married   40423    both    South Region   \n",
       "\n",
       "   revenue_exclusion_flag caregiving_status wealth    meat/seafood  \\\n",
       "0  High-activity customer         caregiver  lower  non_meat_eater   \n",
       "1  High-activity customer         caregiver  lower  non_meat_eater   \n",
       "2  High-activity customer         caregiver  lower  non_meat_eater   \n",
       "3  High-activity customer         caregiver  lower  non_meat_eater   \n",
       "4  High-activity customer         caregiver  lower  non_meat_eater   \n",
       "\n",
       "                alcohol age_groups  \n",
       "0  non_alcohol_consumer      30-39  \n",
       "1  non_alcohol_consumer      30-39  \n",
       "2  non_alcohol_consumer      30-39  \n",
       "3  non_alcohol_consumer      30-39  \n",
       "4  non_alcohol_consumer      30-39  \n",
       "\n",
       "[5 rows x 40 columns]"
      ]
     },
     "execution_count": 4,
     "metadata": {},
     "output_type": "execute_result"
    }
   ],
   "source": [
    "df.head()"
   ]
  },
  {
   "cell_type": "markdown",
   "id": "75d8d066",
   "metadata": {},
   "source": [
    "# Step 6: Visualization"
   ]
  },
  {
   "cell_type": "code",
   "execution_count": 5,
   "id": "5748a038",
   "metadata": {},
   "outputs": [],
   "source": [
    "# crosstab for age/caregiver\n",
    "\n",
    "crosstab_6_1 = pd.crosstab(df['age_groups'], df['caregiving_status'], dropna = False)"
   ]
  },
  {
   "cell_type": "code",
   "execution_count": 6,
   "id": "b2562592",
   "metadata": {},
   "outputs": [
    {
     "data": {
      "image/png": "[encoded data removed]",
      "text/plain": [
       "<Figure size 640x480 with 1 Axes>"
      ]
     },
     "metadata": {},
     "output_type": "display_data"
    }
   ],
   "source": [
    "bar_age_group_caregiving_status = crosstab_6_1.plot.bar()"
   ]
  },
  {
   "cell_type": "code",
   "execution_count": 7,
   "id": "1be31ac5",
   "metadata": {},
   "outputs": [],
   "source": [
    "# export\n",
    "bar_age_group_caregiving_status.figure.savefig(os.path.join(path, '04 Analysis','Visualizations', 'bar__age_group_caregiving_status.png'))"
   ]
  },
  {
   "cell_type": "code",
   "execution_count": 8,
   "id": "6c7b92a6",
   "metadata": {},
   "outputs": [],
   "source": [
    "crosstab_6_2 = pd.crosstab(df['age_groups'], df['wealth'], dropna = False)"
   ]
  },
  {
   "cell_type": "code",
   "execution_count": 9,
   "id": "47f8f0e1",
   "metadata": {},
   "outputs": [
    {
     "data": {
      "image/png": "[encoded data removed]",
      "text/plain": [
       "<Figure size 640x480 with 1 Axes>"
      ]
     },
     "metadata": {},
     "output_type": "display_data"
    }
   ],
   "source": [
    "bar_age_group_wealth = crosstab_6_2.sort_index().plot.bar()"
   ]
  },
  {
   "cell_type": "code",
   "execution_count": 10,
   "id": "e5c0f0c9",
   "metadata": {},
   "outputs": [],
   "source": [
    "# export\n",
    "bar_age_group_wealth.figure.savefig(os.path.join(path, '04 Analysis','Visualizations', 'bar__age_group_wealth.png'))"
   ]
  },
  {
   "cell_type": "code",
   "execution_count": 11,
   "id": "d1fc682b",
   "metadata": {},
   "outputs": [],
   "source": [
    "crosstab_6_3 = pd.crosstab(df['caregiving_status'], df['wealth'], dropna = False)"
   ]
  },
  {
   "cell_type": "code",
   "execution_count": 12,
   "id": "ceacafc0",
   "metadata": {},
   "outputs": [
    {
     "data": {
      "image/png": "[encoded data removed]",
      "text/plain": [
       "<Figure size 640x480 with 1 Axes>"
      ]
     },
     "metadata": {},
     "output_type": "display_data"
    }
   ],
   "source": [
    "bar_caregiving_status_wealth = crosstab_6_3.sort_index().plot.bar()"
   ]
  },
  {
   "cell_type": "code",
   "execution_count": 13,
   "id": "421b7e4b",
   "metadata": {},
   "outputs": [],
   "source": [
    "# export\n",
    "bar_caregiving_status_wealth.figure.savefig(os.path.join(path, '04 Analysis','Visualizations', 'bar_caregiving_status_wealth.png'))"
   ]
  },
  {
   "cell_type": "code",
   "execution_count": 14,
   "id": "22216def",
   "metadata": {},
   "outputs": [],
   "source": [
    "crosstab_6_4 = pd.crosstab(df['caregiving_status'], df['meat/seafood'], dropna = False)"
   ]
  },
  {
   "cell_type": "code",
   "execution_count": 15,
   "id": "838730d2",
   "metadata": {},
   "outputs": [
    {
     "data": {
      "image/png": "[encoded data removed]",
      "text/plain": [
       "<Figure size 640x480 with 1 Axes>"
      ]
     },
     "metadata": {},
     "output_type": "display_data"
    }
   ],
   "source": [
    "bar_caregiving_status_meat = crosstab_6_4.sort_index().plot.bar()"
   ]
  },
  {
   "cell_type": "code",
   "execution_count": 16,
   "id": "d5e672c2",
   "metadata": {},
   "outputs": [],
   "source": [
    "# export\n",
    "bar_caregiving_status_meat.figure.savefig(os.path.join(path, '04 Analysis','Visualizations', 'bar_caregiving_status_meat.png'))"
   ]
  },
  {
   "cell_type": "code",
   "execution_count": 17,
   "id": "fc8ca851",
   "metadata": {},
   "outputs": [],
   "source": [
    "crosstab_6_5 = pd.crosstab(df['caregiving_status'], df['alcohol'], dropna = False)"
   ]
  },
  {
   "cell_type": "code",
   "execution_count": 18,
   "id": "eb1437ab",
   "metadata": {},
   "outputs": [
    {
     "data": {
      "image/png": "[encoded data removed]",
      "text/plain": [
       "<Figure size 640x480 with 1 Axes>"
      ]
     },
     "metadata": {},
     "output_type": "display_data"
    }
   ],
   "source": [
    "bar_caregiving_status_alc = crosstab_6_5.sort_index().plot.bar()"
   ]
  },
  {
   "cell_type": "code",
   "execution_count": 19,
   "id": "ce7eb11e",
   "metadata": {},
   "outputs": [],
   "source": [
    "# export\n",
    "bar_caregiving_status_alc.figure.savefig(os.path.join(path, '04 Analysis','Visualizations', 'bar_caregiving_status_alc.png'))"
   ]
  },
  {
   "cell_type": "code",
   "execution_count": 20,
   "id": "eaff3859",
   "metadata": {},
   "outputs": [],
   "source": [
    "crosstab_6_6 = pd.crosstab(df['meat/seafood'], df['wealth'], dropna = False)"
   ]
  },
  {
   "cell_type": "code",
   "execution_count": 21,
   "id": "c0b58099",
   "metadata": {},
   "outputs": [
    {
     "data": {
      "image/png": "[encoded data removed]",
      "text/plain": [
       "<Figure size 640x480 with 1 Axes>"
      ]
     },
     "metadata": {},
     "output_type": "display_data"
    }
   ],
   "source": [
    "bar_meat_wealth = crosstab_6_6.sort_index().plot.bar()"
   ]
  },
  {
   "cell_type": "code",
   "execution_count": 22,
   "id": "fddff468",
   "metadata": {},
   "outputs": [],
   "source": [
    "# export\n",
    "bar_meat_wealth.figure.savefig(os.path.join(path, '04 Analysis','Visualizations', 'bar_meat_wealth.png'))"
   ]
  },
  {
   "cell_type": "code",
   "execution_count": 23,
   "id": "6db7ed44",
   "metadata": {},
   "outputs": [],
   "source": [
    "crosstab_6_7 = pd.crosstab(df['alcohol'], df['wealth'], dropna = False)"
   ]
  },
  {
   "cell_type": "code",
   "execution_count": 24,
   "id": "0510f823",
   "metadata": {},
   "outputs": [
    {
     "data": {
      "image/png": "[encoded data removed]",
      "text/plain": [
       "<Figure size 640x480 with 1 Axes>"
      ]
     },
     "metadata": {},
     "output_type": "display_data"
    }
   ],
   "source": [
    "bar_alc_wealth = crosstab_6_7.sort_index().plot.bar()"
   ]
  },
  {
   "cell_type": "code",
   "execution_count": 25,
   "id": "e65de2f5",
   "metadata": {},
   "outputs": [],
   "source": [
    "# export\n",
    "bar_alc_wealth.figure.savefig(os.path.join(path, '04 Analysis','Visualizations', 'bar_alc_wealth.png'))"
   ]
  },
  {
   "cell_type": "code",
   "execution_count": 26,
   "id": "c7d910c8",
   "metadata": {},
   "outputs": [],
   "source": [
    "crosstab_6_8 = pd.crosstab(df['age_groups'], df['meat/seafood'], dropna = False)"
   ]
  },
  {
   "cell_type": "code",
   "execution_count": 27,
   "id": "54d9b1e3",
   "metadata": {},
   "outputs": [
    {
     "data": {
      "image/png": "[encoded data removed]",
      "text/plain": [
       "<Figure size 640x480 with 1 Axes>"
      ]
     },
     "metadata": {},
     "output_type": "display_data"
    }
   ],
   "source": [
    "bar_age_groups_meat = crosstab_6_8.sort_index().plot.bar()"
   ]
  },
  {
   "cell_type": "code",
   "execution_count": 28,
   "id": "9038dc9c",
   "metadata": {},
   "outputs": [],
   "source": [
    "# export\n",
    "bar_age_groups_meat.figure.savefig(os.path.join(path, '04 Analysis','Visualizations', 'bar_age_groups_meat.png'))"
   ]
  },
  {
   "cell_type": "code",
   "execution_count": 29,
   "id": "ae7900cd",
   "metadata": {},
   "outputs": [],
   "source": [
    "crosstab_6_9 = pd.crosstab(df['age_groups'], df['alcohol'], dropna = False)"
   ]
  },
  {
   "cell_type": "code",
   "execution_count": 30,
   "id": "c20c2dbe",
   "metadata": {},
   "outputs": [
    {
     "data": {
      "image/png": "[encoded data removed]",
      "text/plain": [
       "<Figure size 640x480 with 1 Axes>"
      ]
     },
     "metadata": {},
     "output_type": "display_data"
    }
   ],
   "source": [
    "bar_age_groups_alc = crosstab_6_9.sort_index().plot.bar()"
   ]
  },
  {
   "cell_type": "code",
   "execution_count": 31,
   "id": "4d03a273",
   "metadata": {},
   "outputs": [],
   "source": [
    "# export\n",
    "bar_age_groups_alc.figure.savefig(os.path.join(path, '04 Analysis','Visualizations', 'bar_age_groups_alc.png'))"
   ]
  },
  {
   "cell_type": "code",
   "execution_count": 32,
   "id": "eb35bbec",
   "metadata": {},
   "outputs": [],
   "source": [
    "crosstab_6_10 = pd.crosstab(df['fam_status'], df['caregiving_status'], dropna = False)"
   ]
  },
  {
   "cell_type": "code",
   "execution_count": 33,
   "id": "171f11b1",
   "metadata": {},
   "outputs": [
    {
     "data": {
      "image/png": "[encoded data removed]",
      "text/plain": [
       "<Figure size 640x480 with 1 Axes>"
      ]
     },
     "metadata": {},
     "output_type": "display_data"
    }
   ],
   "source": [
    "bar_fam_status_caregiving_status = crosstab_6_10.sort_index().plot.bar()"
   ]
  },
  {
   "cell_type": "code",
   "execution_count": 34,
   "id": "65bc8802",
   "metadata": {},
   "outputs": [],
   "source": [
    "# export\n",
    "bar_fam_status_caregiving_status.figure.savefig(os.path.join(path, '04 Analysis','Visualizations', 'bar_fam_status_caregiving_status.png'))"
   ]
  },
  {
   "cell_type": "code",
   "execution_count": 35,
   "id": "67f9e70a",
   "metadata": {},
   "outputs": [],
   "source": [
    "crosstab_6_11 = pd.crosstab(df['fam_status'], df['wealth'], dropna = False)"
   ]
  },
  {
   "cell_type": "code",
   "execution_count": 36,
   "id": "e62c4ae4",
   "metadata": {},
   "outputs": [
    {
     "data": {
      "image/png": "[encoded data removed]",
      "text/plain": [
       "<Figure size 640x480 with 1 Axes>"
      ]
     },
     "metadata": {},
     "output_type": "display_data"
    }
   ],
   "source": [
    "bar_fam_status_wealth = crosstab_6_11.sort_index().plot.bar()"
   ]
  },
  {
   "cell_type": "code",
   "execution_count": 37,
   "id": "d0cc0c37",
   "metadata": {},
   "outputs": [],
   "source": [
    "# export\n",
    "bar_fam_status_wealth.figure.savefig(os.path.join(path, '04 Analysis','Visualizations', 'bar_fam_status_wealth.png'))"
   ]
  },
  {
   "cell_type": "code",
   "execution_count": 38,
   "id": "02651adf",
   "metadata": {},
   "outputs": [],
   "source": [
    "# We already learned from previous analyses that there are more customers who are caregivers than not. \n",
    "# There is a smaller group of customers under the age of 20, otherwise caregivers seem to be distributed in each age group. \n",
    "# Wealth (income) is higher in ages over 40, as we discovered in previous charts. \n",
    "# Most caregivers are married, this seems to be the biggest group in terms of lifestyle. \n",
    "# Single and divorced/widowed customers are less likely to be caregivers. \n",
    "# Married customers also bring in the highest incomes.\n",
    "# There are more non-meat-eaters as customers, and more non-alcohol consumers as well.\n",
    "# The charts created regarding caregiving status and meat/alcohol consumption would need further analysis. \n",
    "# Further analysis could be provided on loyalty customers, spending habits, or spending on other departments. "
   ]
  },
  {
   "cell_type": "markdown",
   "id": "59ffd979",
   "metadata": {},
   "source": [
    "# Step 7: Aggregation"
   ]
  },
  {
   "cell_type": "code",
   "execution_count": 39,
   "id": "ee3f52eb",
   "metadata": {},
   "outputs": [
    {
     "data": {
      "text/html": [
       "<div>\n",
       "<style scoped>\n",
       "    .dataframe tbody tr th:only-of-type {\n",
       "        vertical-align: middle;\n",
       "    }\n",
       "\n",
       "    .dataframe tbody tr th {\n",
       "        vertical-align: top;\n",
       "    }\n",
       "\n",
       "    .dataframe thead tr th {\n",
       "        text-align: left;\n",
       "    }\n",
       "\n",
       "    .dataframe thead tr:last-of-type th {\n",
       "        text-align: right;\n",
       "    }\n",
       "</style>\n",
       "<table border=\"1\" class=\"dataframe\">\n",
       "  <thead>\n",
       "    <tr>\n",
       "      <th></th>\n",
       "      <th colspan=\"3\" halign=\"left\">order_number</th>\n",
       "    </tr>\n",
       "    <tr>\n",
       "      <th></th>\n",
       "      <th>mean</th>\n",
       "      <th>min</th>\n",
       "      <th>max</th>\n",
       "    </tr>\n",
       "    <tr>\n",
       "      <th>age_groups</th>\n",
       "      <th></th>\n",
       "      <th></th>\n",
       "      <th></th>\n",
       "    </tr>\n",
       "  </thead>\n",
       "  <tbody>\n",
       "    <tr>\n",
       "      <th>20-29</th>\n",
       "      <td>17.095902</td>\n",
       "      <td>1</td>\n",
       "      <td>99</td>\n",
       "    </tr>\n",
       "    <tr>\n",
       "      <th>30-39</th>\n",
       "      <td>17.244223</td>\n",
       "      <td>1</td>\n",
       "      <td>99</td>\n",
       "    </tr>\n",
       "    <tr>\n",
       "      <th>40-49</th>\n",
       "      <td>17.151719</td>\n",
       "      <td>1</td>\n",
       "      <td>99</td>\n",
       "    </tr>\n",
       "    <tr>\n",
       "      <th>50-59</th>\n",
       "      <td>17.130577</td>\n",
       "      <td>1</td>\n",
       "      <td>99</td>\n",
       "    </tr>\n",
       "    <tr>\n",
       "      <th>over_60</th>\n",
       "      <td>17.115825</td>\n",
       "      <td>1</td>\n",
       "      <td>99</td>\n",
       "    </tr>\n",
       "    <tr>\n",
       "      <th>under_20</th>\n",
       "      <td>17.164385</td>\n",
       "      <td>1</td>\n",
       "      <td>99</td>\n",
       "    </tr>\n",
       "  </tbody>\n",
       "</table>\n",
       "</div>"
      ],
      "text/plain": [
       "           order_number        \n",
       "                   mean min max\n",
       "age_groups                     \n",
       "20-29         17.095902   1  99\n",
       "30-39         17.244223   1  99\n",
       "40-49         17.151719   1  99\n",
       "50-59         17.130577   1  99\n",
       "over_60       17.115825   1  99\n",
       "under_20      17.164385   1  99"
      ]
     },
     "execution_count": 39,
     "metadata": {},
     "output_type": "execute_result"
    }
   ],
   "source": [
    "# Aggregate by age groups\n",
    "df.groupby('age_groups').agg({'order_number': ['mean', 'min', 'max']})"
   ]
  },
  {
   "cell_type": "code",
   "execution_count": 40,
   "id": "0f479c15",
   "metadata": {},
   "outputs": [
    {
     "data": {
      "text/html": [
       "<div>\n",
       "<style scoped>\n",
       "    .dataframe tbody tr th:only-of-type {\n",
       "        vertical-align: middle;\n",
       "    }\n",
       "\n",
       "    .dataframe tbody tr th {\n",
       "        vertical-align: top;\n",
       "    }\n",
       "\n",
       "    .dataframe thead tr th {\n",
       "        text-align: left;\n",
       "    }\n",
       "\n",
       "    .dataframe thead tr:last-of-type th {\n",
       "        text-align: right;\n",
       "    }\n",
       "</style>\n",
       "<table border=\"1\" class=\"dataframe\">\n",
       "  <thead>\n",
       "    <tr>\n",
       "      <th></th>\n",
       "      <th colspan=\"3\" halign=\"left\">prices</th>\n",
       "    </tr>\n",
       "    <tr>\n",
       "      <th></th>\n",
       "      <th>mean</th>\n",
       "      <th>min</th>\n",
       "      <th>max</th>\n",
       "    </tr>\n",
       "    <tr>\n",
       "      <th>age_groups</th>\n",
       "      <th></th>\n",
       "      <th></th>\n",
       "      <th></th>\n",
       "    </tr>\n",
       "  </thead>\n",
       "  <tbody>\n",
       "    <tr>\n",
       "      <th>20-29</th>\n",
       "      <td>7.778429</td>\n",
       "      <td>1.0</td>\n",
       "      <td>25.0</td>\n",
       "    </tr>\n",
       "    <tr>\n",
       "      <th>30-39</th>\n",
       "      <td>7.788718</td>\n",
       "      <td>1.0</td>\n",
       "      <td>25.0</td>\n",
       "    </tr>\n",
       "    <tr>\n",
       "      <th>40-49</th>\n",
       "      <td>7.799037</td>\n",
       "      <td>1.0</td>\n",
       "      <td>25.0</td>\n",
       "    </tr>\n",
       "    <tr>\n",
       "      <th>50-59</th>\n",
       "      <td>7.784691</td>\n",
       "      <td>1.0</td>\n",
       "      <td>25.0</td>\n",
       "    </tr>\n",
       "    <tr>\n",
       "      <th>over_60</th>\n",
       "      <td>7.795182</td>\n",
       "      <td>1.0</td>\n",
       "      <td>25.0</td>\n",
       "    </tr>\n",
       "    <tr>\n",
       "      <th>under_20</th>\n",
       "      <td>7.806243</td>\n",
       "      <td>1.0</td>\n",
       "      <td>25.0</td>\n",
       "    </tr>\n",
       "  </tbody>\n",
       "</table>\n",
       "</div>"
      ],
      "text/plain": [
       "              prices           \n",
       "                mean  min   max\n",
       "age_groups                     \n",
       "20-29       7.778429  1.0  25.0\n",
       "30-39       7.788718  1.0  25.0\n",
       "40-49       7.799037  1.0  25.0\n",
       "50-59       7.784691  1.0  25.0\n",
       "over_60     7.795182  1.0  25.0\n",
       "under_20    7.806243  1.0  25.0"
      ]
     },
     "execution_count": 40,
     "metadata": {},
     "output_type": "execute_result"
    }
   ],
   "source": [
    "df.groupby('age_groups').agg({'prices': ['mean', 'min', 'max']})"
   ]
  },
  {
   "cell_type": "code",
   "execution_count": 41,
   "id": "439f6bd1",
   "metadata": {},
   "outputs": [
    {
     "data": {
      "text/html": [
       "<div>\n",
       "<style scoped>\n",
       "    .dataframe tbody tr th:only-of-type {\n",
       "        vertical-align: middle;\n",
       "    }\n",
       "\n",
       "    .dataframe tbody tr th {\n",
       "        vertical-align: top;\n",
       "    }\n",
       "\n",
       "    .dataframe thead tr th {\n",
       "        text-align: left;\n",
       "    }\n",
       "\n",
       "    .dataframe thead tr:last-of-type th {\n",
       "        text-align: right;\n",
       "    }\n",
       "</style>\n",
       "<table border=\"1\" class=\"dataframe\">\n",
       "  <thead>\n",
       "    <tr>\n",
       "      <th></th>\n",
       "      <th colspan=\"3\" halign=\"left\">days_since_prior_order</th>\n",
       "    </tr>\n",
       "    <tr>\n",
       "      <th></th>\n",
       "      <th>mean</th>\n",
       "      <th>min</th>\n",
       "      <th>max</th>\n",
       "    </tr>\n",
       "    <tr>\n",
       "      <th>age_groups</th>\n",
       "      <th></th>\n",
       "      <th></th>\n",
       "      <th></th>\n",
       "    </tr>\n",
       "  </thead>\n",
       "  <tbody>\n",
       "    <tr>\n",
       "      <th>20-29</th>\n",
       "      <td>11.108615</td>\n",
       "      <td>0.0</td>\n",
       "      <td>30.0</td>\n",
       "    </tr>\n",
       "    <tr>\n",
       "      <th>30-39</th>\n",
       "      <td>11.101860</td>\n",
       "      <td>0.0</td>\n",
       "      <td>30.0</td>\n",
       "    </tr>\n",
       "    <tr>\n",
       "      <th>40-49</th>\n",
       "      <td>11.097257</td>\n",
       "      <td>0.0</td>\n",
       "      <td>30.0</td>\n",
       "    </tr>\n",
       "    <tr>\n",
       "      <th>50-59</th>\n",
       "      <td>11.127413</td>\n",
       "      <td>0.0</td>\n",
       "      <td>30.0</td>\n",
       "    </tr>\n",
       "    <tr>\n",
       "      <th>over_60</th>\n",
       "      <td>11.092551</td>\n",
       "      <td>0.0</td>\n",
       "      <td>30.0</td>\n",
       "    </tr>\n",
       "    <tr>\n",
       "      <th>under_20</th>\n",
       "      <td>11.135989</td>\n",
       "      <td>0.0</td>\n",
       "      <td>30.0</td>\n",
       "    </tr>\n",
       "  </tbody>\n",
       "</table>\n",
       "</div>"
      ],
      "text/plain": [
       "           days_since_prior_order           \n",
       "                             mean  min   max\n",
       "age_groups                                  \n",
       "20-29                   11.108615  0.0  30.0\n",
       "30-39                   11.101860  0.0  30.0\n",
       "40-49                   11.097257  0.0  30.0\n",
       "50-59                   11.127413  0.0  30.0\n",
       "over_60                 11.092551  0.0  30.0\n",
       "under_20                11.135989  0.0  30.0"
      ]
     },
     "execution_count": 41,
     "metadata": {},
     "output_type": "execute_result"
    }
   ],
   "source": [
    "df.groupby('age_groups').agg({'days_since_prior_order': ['mean', 'min', 'max']})"
   ]
  },
  {
   "cell_type": "code",
   "execution_count": 42,
   "id": "9d4ced9c",
   "metadata": {},
   "outputs": [
    {
     "data": {
      "text/html": [
       "<div>\n",
       "<style scoped>\n",
       "    .dataframe tbody tr th:only-of-type {\n",
       "        vertical-align: middle;\n",
       "    }\n",
       "\n",
       "    .dataframe tbody tr th {\n",
       "        vertical-align: top;\n",
       "    }\n",
       "\n",
       "    .dataframe thead tr th {\n",
       "        text-align: left;\n",
       "    }\n",
       "\n",
       "    .dataframe thead tr:last-of-type th {\n",
       "        text-align: right;\n",
       "    }\n",
       "</style>\n",
       "<table border=\"1\" class=\"dataframe\">\n",
       "  <thead>\n",
       "    <tr>\n",
       "      <th></th>\n",
       "      <th colspan=\"3\" halign=\"left\">order_number</th>\n",
       "    </tr>\n",
       "    <tr>\n",
       "      <th></th>\n",
       "      <th>mean</th>\n",
       "      <th>min</th>\n",
       "      <th>max</th>\n",
       "    </tr>\n",
       "    <tr>\n",
       "      <th>fam_status</th>\n",
       "      <th></th>\n",
       "      <th></th>\n",
       "      <th></th>\n",
       "    </tr>\n",
       "  </thead>\n",
       "  <tbody>\n",
       "    <tr>\n",
       "      <th>divorced/widowed</th>\n",
       "      <td>17.275873</td>\n",
       "      <td>1</td>\n",
       "      <td>99</td>\n",
       "    </tr>\n",
       "    <tr>\n",
       "      <th>living with parents and siblings</th>\n",
       "      <td>17.296372</td>\n",
       "      <td>1</td>\n",
       "      <td>99</td>\n",
       "    </tr>\n",
       "    <tr>\n",
       "      <th>married</th>\n",
       "      <td>17.088283</td>\n",
       "      <td>1</td>\n",
       "      <td>99</td>\n",
       "    </tr>\n",
       "    <tr>\n",
       "      <th>single</th>\n",
       "      <td>17.258766</td>\n",
       "      <td>1</td>\n",
       "      <td>99</td>\n",
       "    </tr>\n",
       "  </tbody>\n",
       "</table>\n",
       "</div>"
      ],
      "text/plain": [
       "                                 order_number        \n",
       "                                         mean min max\n",
       "fam_status                                           \n",
       "divorced/widowed                    17.275873   1  99\n",
       "living with parents and siblings    17.296372   1  99\n",
       "married                             17.088283   1  99\n",
       "single                              17.258766   1  99"
      ]
     },
     "execution_count": 42,
     "metadata": {},
     "output_type": "execute_result"
    }
   ],
   "source": [
    "# Aggregate by family status\n",
    "df.groupby('fam_status').agg({'order_number': ['mean', 'min', 'max']})"
   ]
  },
  {
   "cell_type": "code",
   "execution_count": 43,
   "id": "adde2f73",
   "metadata": {},
   "outputs": [
    {
     "data": {
      "text/html": [
       "<div>\n",
       "<style scoped>\n",
       "    .dataframe tbody tr th:only-of-type {\n",
       "        vertical-align: middle;\n",
       "    }\n",
       "\n",
       "    .dataframe tbody tr th {\n",
       "        vertical-align: top;\n",
       "    }\n",
       "\n",
       "    .dataframe thead tr th {\n",
       "        text-align: left;\n",
       "    }\n",
       "\n",
       "    .dataframe thead tr:last-of-type th {\n",
       "        text-align: right;\n",
       "    }\n",
       "</style>\n",
       "<table border=\"1\" class=\"dataframe\">\n",
       "  <thead>\n",
       "    <tr>\n",
       "      <th></th>\n",
       "      <th colspan=\"3\" halign=\"left\">prices</th>\n",
       "    </tr>\n",
       "    <tr>\n",
       "      <th></th>\n",
       "      <th>mean</th>\n",
       "      <th>min</th>\n",
       "      <th>max</th>\n",
       "    </tr>\n",
       "    <tr>\n",
       "      <th>fam_status</th>\n",
       "      <th></th>\n",
       "      <th></th>\n",
       "      <th></th>\n",
       "    </tr>\n",
       "  </thead>\n",
       "  <tbody>\n",
       "    <tr>\n",
       "      <th>divorced/widowed</th>\n",
       "      <td>7.800846</td>\n",
       "      <td>1.0</td>\n",
       "      <td>25.0</td>\n",
       "    </tr>\n",
       "    <tr>\n",
       "      <th>living with parents and siblings</th>\n",
       "      <td>7.800584</td>\n",
       "      <td>1.0</td>\n",
       "      <td>25.0</td>\n",
       "    </tr>\n",
       "    <tr>\n",
       "      <th>married</th>\n",
       "      <td>7.790565</td>\n",
       "      <td>1.0</td>\n",
       "      <td>25.0</td>\n",
       "    </tr>\n",
       "    <tr>\n",
       "      <th>single</th>\n",
       "      <td>7.784123</td>\n",
       "      <td>1.0</td>\n",
       "      <td>25.0</td>\n",
       "    </tr>\n",
       "  </tbody>\n",
       "</table>\n",
       "</div>"
      ],
      "text/plain": [
       "                                    prices           \n",
       "                                      mean  min   max\n",
       "fam_status                                           \n",
       "divorced/widowed                  7.800846  1.0  25.0\n",
       "living with parents and siblings  7.800584  1.0  25.0\n",
       "married                           7.790565  1.0  25.0\n",
       "single                            7.784123  1.0  25.0"
      ]
     },
     "execution_count": 43,
     "metadata": {},
     "output_type": "execute_result"
    }
   ],
   "source": [
    "df.groupby('fam_status').agg({'prices': ['mean', 'min', 'max']})"
   ]
  },
  {
   "cell_type": "code",
   "execution_count": 44,
   "id": "55fb1d1f",
   "metadata": {},
   "outputs": [
    {
     "data": {
      "text/html": [
       "<div>\n",
       "<style scoped>\n",
       "    .dataframe tbody tr th:only-of-type {\n",
       "        vertical-align: middle;\n",
       "    }\n",
       "\n",
       "    .dataframe tbody tr th {\n",
       "        vertical-align: top;\n",
       "    }\n",
       "\n",
       "    .dataframe thead tr th {\n",
       "        text-align: left;\n",
       "    }\n",
       "\n",
       "    .dataframe thead tr:last-of-type th {\n",
       "        text-align: right;\n",
       "    }\n",
       "</style>\n",
       "<table border=\"1\" class=\"dataframe\">\n",
       "  <thead>\n",
       "    <tr>\n",
       "      <th></th>\n",
       "      <th colspan=\"3\" halign=\"left\">days_since_prior_order</th>\n",
       "    </tr>\n",
       "    <tr>\n",
       "      <th></th>\n",
       "      <th>mean</th>\n",
       "      <th>min</th>\n",
       "      <th>max</th>\n",
       "    </tr>\n",
       "    <tr>\n",
       "      <th>fam_status</th>\n",
       "      <th></th>\n",
       "      <th></th>\n",
       "      <th></th>\n",
       "    </tr>\n",
       "  </thead>\n",
       "  <tbody>\n",
       "    <tr>\n",
       "      <th>divorced/widowed</th>\n",
       "      <td>11.047780</td>\n",
       "      <td>0.0</td>\n",
       "      <td>30.0</td>\n",
       "    </tr>\n",
       "    <tr>\n",
       "      <th>living with parents and siblings</th>\n",
       "      <td>11.048170</td>\n",
       "      <td>0.0</td>\n",
       "      <td>30.0</td>\n",
       "    </tr>\n",
       "    <tr>\n",
       "      <th>married</th>\n",
       "      <td>11.116175</td>\n",
       "      <td>0.0</td>\n",
       "      <td>30.0</td>\n",
       "    </tr>\n",
       "    <tr>\n",
       "      <th>single</th>\n",
       "      <td>11.097992</td>\n",
       "      <td>0.0</td>\n",
       "      <td>30.0</td>\n",
       "    </tr>\n",
       "  </tbody>\n",
       "</table>\n",
       "</div>"
      ],
      "text/plain": [
       "                                 days_since_prior_order           \n",
       "                                                   mean  min   max\n",
       "fam_status                                                        \n",
       "divorced/widowed                              11.047780  0.0  30.0\n",
       "living with parents and siblings              11.048170  0.0  30.0\n",
       "married                                       11.116175  0.0  30.0\n",
       "single                                        11.097992  0.0  30.0"
      ]
     },
     "execution_count": 44,
     "metadata": {},
     "output_type": "execute_result"
    }
   ],
   "source": [
    "df.groupby('fam_status').agg({'days_since_prior_order': ['mean', 'min', 'max']})"
   ]
  },
  {
   "cell_type": "code",
   "execution_count": 45,
   "id": "39ecffbb",
   "metadata": {},
   "outputs": [
    {
     "data": {
      "text/html": [
       "<div>\n",
       "<style scoped>\n",
       "    .dataframe tbody tr th:only-of-type {\n",
       "        vertical-align: middle;\n",
       "    }\n",
       "\n",
       "    .dataframe tbody tr th {\n",
       "        vertical-align: top;\n",
       "    }\n",
       "\n",
       "    .dataframe thead tr th {\n",
       "        text-align: left;\n",
       "    }\n",
       "\n",
       "    .dataframe thead tr:last-of-type th {\n",
       "        text-align: right;\n",
       "    }\n",
       "</style>\n",
       "<table border=\"1\" class=\"dataframe\">\n",
       "  <thead>\n",
       "    <tr>\n",
       "      <th></th>\n",
       "      <th colspan=\"3\" halign=\"left\">order_number</th>\n",
       "    </tr>\n",
       "    <tr>\n",
       "      <th></th>\n",
       "      <th>mean</th>\n",
       "      <th>min</th>\n",
       "      <th>max</th>\n",
       "    </tr>\n",
       "    <tr>\n",
       "      <th>wealth</th>\n",
       "      <th></th>\n",
       "      <th></th>\n",
       "      <th></th>\n",
       "    </tr>\n",
       "  </thead>\n",
       "  <tbody>\n",
       "    <tr>\n",
       "      <th>lower</th>\n",
       "      <td>15.896616</td>\n",
       "      <td>1</td>\n",
       "      <td>99</td>\n",
       "    </tr>\n",
       "    <tr>\n",
       "      <th>middle</th>\n",
       "      <td>17.319015</td>\n",
       "      <td>1</td>\n",
       "      <td>99</td>\n",
       "    </tr>\n",
       "    <tr>\n",
       "      <th>upper</th>\n",
       "      <td>17.277781</td>\n",
       "      <td>1</td>\n",
       "      <td>99</td>\n",
       "    </tr>\n",
       "  </tbody>\n",
       "</table>\n",
       "</div>"
      ],
      "text/plain": [
       "       order_number        \n",
       "               mean min max\n",
       "wealth                     \n",
       "lower     15.896616   1  99\n",
       "middle    17.319015   1  99\n",
       "upper     17.277781   1  99"
      ]
     },
     "execution_count": 45,
     "metadata": {},
     "output_type": "execute_result"
    }
   ],
   "source": [
    "df.groupby('wealth').agg({'order_number': ['mean', 'min', 'max']})"
   ]
  },
  {
   "cell_type": "code",
   "execution_count": 46,
   "id": "8cdbebf2",
   "metadata": {},
   "outputs": [
    {
     "data": {
      "text/html": [
       "<div>\n",
       "<style scoped>\n",
       "    .dataframe tbody tr th:only-of-type {\n",
       "        vertical-align: middle;\n",
       "    }\n",
       "\n",
       "    .dataframe tbody tr th {\n",
       "        vertical-align: top;\n",
       "    }\n",
       "\n",
       "    .dataframe thead tr th {\n",
       "        text-align: left;\n",
       "    }\n",
       "\n",
       "    .dataframe thead tr:last-of-type th {\n",
       "        text-align: right;\n",
       "    }\n",
       "</style>\n",
       "<table border=\"1\" class=\"dataframe\">\n",
       "  <thead>\n",
       "    <tr>\n",
       "      <th></th>\n",
       "      <th colspan=\"3\" halign=\"left\">prices</th>\n",
       "    </tr>\n",
       "    <tr>\n",
       "      <th></th>\n",
       "      <th>mean</th>\n",
       "      <th>min</th>\n",
       "      <th>max</th>\n",
       "    </tr>\n",
       "    <tr>\n",
       "      <th>wealth</th>\n",
       "      <th></th>\n",
       "      <th></th>\n",
       "      <th></th>\n",
       "    </tr>\n",
       "  </thead>\n",
       "  <tbody>\n",
       "    <tr>\n",
       "      <th>lower</th>\n",
       "      <td>6.697925</td>\n",
       "      <td>1.0</td>\n",
       "      <td>25.0</td>\n",
       "    </tr>\n",
       "    <tr>\n",
       "      <th>middle</th>\n",
       "      <td>7.893679</td>\n",
       "      <td>1.0</td>\n",
       "      <td>25.0</td>\n",
       "    </tr>\n",
       "    <tr>\n",
       "      <th>upper</th>\n",
       "      <td>7.959124</td>\n",
       "      <td>1.0</td>\n",
       "      <td>25.0</td>\n",
       "    </tr>\n",
       "  </tbody>\n",
       "</table>\n",
       "</div>"
      ],
      "text/plain": [
       "          prices           \n",
       "            mean  min   max\n",
       "wealth                     \n",
       "lower   6.697925  1.0  25.0\n",
       "middle  7.893679  1.0  25.0\n",
       "upper   7.959124  1.0  25.0"
      ]
     },
     "execution_count": 46,
     "metadata": {},
     "output_type": "execute_result"
    }
   ],
   "source": [
    "df.groupby('wealth').agg({'prices': ['mean', 'min', 'max']})"
   ]
  },
  {
   "cell_type": "code",
   "execution_count": 47,
   "id": "1d009ef3",
   "metadata": {},
   "outputs": [
    {
     "data": {
      "text/html": [
       "<div>\n",
       "<style scoped>\n",
       "    .dataframe tbody tr th:only-of-type {\n",
       "        vertical-align: middle;\n",
       "    }\n",
       "\n",
       "    .dataframe tbody tr th {\n",
       "        vertical-align: top;\n",
       "    }\n",
       "\n",
       "    .dataframe thead tr th {\n",
       "        text-align: left;\n",
       "    }\n",
       "\n",
       "    .dataframe thead tr:last-of-type th {\n",
       "        text-align: right;\n",
       "    }\n",
       "</style>\n",
       "<table border=\"1\" class=\"dataframe\">\n",
       "  <thead>\n",
       "    <tr>\n",
       "      <th></th>\n",
       "      <th colspan=\"3\" halign=\"left\">days_since_prior_order</th>\n",
       "    </tr>\n",
       "    <tr>\n",
       "      <th></th>\n",
       "      <th>mean</th>\n",
       "      <th>min</th>\n",
       "      <th>max</th>\n",
       "    </tr>\n",
       "    <tr>\n",
       "      <th>wealth</th>\n",
       "      <th></th>\n",
       "      <th></th>\n",
       "      <th></th>\n",
       "    </tr>\n",
       "  </thead>\n",
       "  <tbody>\n",
       "    <tr>\n",
       "      <th>lower</th>\n",
       "      <td>11.585758</td>\n",
       "      <td>0.0</td>\n",
       "      <td>30.0</td>\n",
       "    </tr>\n",
       "    <tr>\n",
       "      <th>middle</th>\n",
       "      <td>11.049599</td>\n",
       "      <td>0.0</td>\n",
       "      <td>30.0</td>\n",
       "    </tr>\n",
       "    <tr>\n",
       "      <th>upper</th>\n",
       "      <td>11.039865</td>\n",
       "      <td>0.0</td>\n",
       "      <td>30.0</td>\n",
       "    </tr>\n",
       "  </tbody>\n",
       "</table>\n",
       "</div>"
      ],
      "text/plain": [
       "       days_since_prior_order           \n",
       "                         mean  min   max\n",
       "wealth                                  \n",
       "lower               11.585758  0.0  30.0\n",
       "middle              11.049599  0.0  30.0\n",
       "upper               11.039865  0.0  30.0"
      ]
     },
     "execution_count": 47,
     "metadata": {},
     "output_type": "execute_result"
    }
   ],
   "source": [
    "df.groupby('wealth').agg({'days_since_prior_order': ['mean', 'min', 'max']})"
   ]
  },
  {
   "cell_type": "code",
   "execution_count": 48,
   "id": "e591611c",
   "metadata": {},
   "outputs": [
    {
     "data": {
      "text/html": [
       "<div>\n",
       "<style scoped>\n",
       "    .dataframe tbody tr th:only-of-type {\n",
       "        vertical-align: middle;\n",
       "    }\n",
       "\n",
       "    .dataframe tbody tr th {\n",
       "        vertical-align: top;\n",
       "    }\n",
       "\n",
       "    .dataframe thead tr th {\n",
       "        text-align: left;\n",
       "    }\n",
       "\n",
       "    .dataframe thead tr:last-of-type th {\n",
       "        text-align: right;\n",
       "    }\n",
       "</style>\n",
       "<table border=\"1\" class=\"dataframe\">\n",
       "  <thead>\n",
       "    <tr>\n",
       "      <th></th>\n",
       "      <th colspan=\"3\" halign=\"left\">order_number</th>\n",
       "    </tr>\n",
       "    <tr>\n",
       "      <th></th>\n",
       "      <th>mean</th>\n",
       "      <th>min</th>\n",
       "      <th>max</th>\n",
       "    </tr>\n",
       "    <tr>\n",
       "      <th>caregiving_status</th>\n",
       "      <th></th>\n",
       "      <th></th>\n",
       "      <th></th>\n",
       "    </tr>\n",
       "  </thead>\n",
       "  <tbody>\n",
       "    <tr>\n",
       "      <th>caregiver</th>\n",
       "      <td>17.101557</td>\n",
       "      <td>1</td>\n",
       "      <td>99</td>\n",
       "    </tr>\n",
       "    <tr>\n",
       "      <th>non-caregiver</th>\n",
       "      <td>17.264622</td>\n",
       "      <td>1</td>\n",
       "      <td>99</td>\n",
       "    </tr>\n",
       "  </tbody>\n",
       "</table>\n",
       "</div>"
      ],
      "text/plain": [
       "                  order_number        \n",
       "                          mean min max\n",
       "caregiving_status                     \n",
       "caregiver            17.101557   1  99\n",
       "non-caregiver        17.264622   1  99"
      ]
     },
     "execution_count": 48,
     "metadata": {},
     "output_type": "execute_result"
    }
   ],
   "source": [
    "df.groupby('caregiving_status').agg({'order_number': ['mean', 'min', 'max']})"
   ]
  },
  {
   "cell_type": "code",
   "execution_count": 49,
   "id": "35b09e3b",
   "metadata": {},
   "outputs": [
    {
     "data": {
      "text/html": [
       "<div>\n",
       "<style scoped>\n",
       "    .dataframe tbody tr th:only-of-type {\n",
       "        vertical-align: middle;\n",
       "    }\n",
       "\n",
       "    .dataframe tbody tr th {\n",
       "        vertical-align: top;\n",
       "    }\n",
       "\n",
       "    .dataframe thead tr th {\n",
       "        text-align: left;\n",
       "    }\n",
       "\n",
       "    .dataframe thead tr:last-of-type th {\n",
       "        text-align: right;\n",
       "    }\n",
       "</style>\n",
       "<table border=\"1\" class=\"dataframe\">\n",
       "  <thead>\n",
       "    <tr>\n",
       "      <th></th>\n",
       "      <th colspan=\"3\" halign=\"left\">prices</th>\n",
       "    </tr>\n",
       "    <tr>\n",
       "      <th></th>\n",
       "      <th>mean</th>\n",
       "      <th>min</th>\n",
       "      <th>max</th>\n",
       "    </tr>\n",
       "    <tr>\n",
       "      <th>caregiving_status</th>\n",
       "      <th></th>\n",
       "      <th></th>\n",
       "      <th></th>\n",
       "    </tr>\n",
       "  </thead>\n",
       "  <tbody>\n",
       "    <tr>\n",
       "      <th>caregiver</th>\n",
       "      <td>7.791204</td>\n",
       "      <td>1.0</td>\n",
       "      <td>25.0</td>\n",
       "    </tr>\n",
       "    <tr>\n",
       "      <th>non-caregiver</th>\n",
       "      <td>7.789846</td>\n",
       "      <td>1.0</td>\n",
       "      <td>25.0</td>\n",
       "    </tr>\n",
       "  </tbody>\n",
       "</table>\n",
       "</div>"
      ],
      "text/plain": [
       "                     prices           \n",
       "                       mean  min   max\n",
       "caregiving_status                     \n",
       "caregiver          7.791204  1.0  25.0\n",
       "non-caregiver      7.789846  1.0  25.0"
      ]
     },
     "execution_count": 49,
     "metadata": {},
     "output_type": "execute_result"
    }
   ],
   "source": [
    "df.groupby('caregiving_status').agg({'prices': ['mean', 'min', 'max']})"
   ]
  },
  {
   "cell_type": "code",
   "execution_count": 50,
   "id": "b5ad272a",
   "metadata": {},
   "outputs": [
    {
     "data": {
      "text/html": [
       "<div>\n",
       "<style scoped>\n",
       "    .dataframe tbody tr th:only-of-type {\n",
       "        vertical-align: middle;\n",
       "    }\n",
       "\n",
       "    .dataframe tbody tr th {\n",
       "        vertical-align: top;\n",
       "    }\n",
       "\n",
       "    .dataframe thead tr th {\n",
       "        text-align: left;\n",
       "    }\n",
       "\n",
       "    .dataframe thead tr:last-of-type th {\n",
       "        text-align: right;\n",
       "    }\n",
       "</style>\n",
       "<table border=\"1\" class=\"dataframe\">\n",
       "  <thead>\n",
       "    <tr>\n",
       "      <th></th>\n",
       "      <th colspan=\"3\" halign=\"left\">days_since_prior_order</th>\n",
       "    </tr>\n",
       "    <tr>\n",
       "      <th></th>\n",
       "      <th>mean</th>\n",
       "      <th>min</th>\n",
       "      <th>max</th>\n",
       "    </tr>\n",
       "    <tr>\n",
       "      <th>caregiving_status</th>\n",
       "      <th></th>\n",
       "      <th></th>\n",
       "      <th></th>\n",
       "    </tr>\n",
       "  </thead>\n",
       "  <tbody>\n",
       "    <tr>\n",
       "      <th>caregiver</th>\n",
       "      <td>11.111834</td>\n",
       "      <td>0.0</td>\n",
       "      <td>30.0</td>\n",
       "    </tr>\n",
       "    <tr>\n",
       "      <th>non-caregiver</th>\n",
       "      <td>11.080806</td>\n",
       "      <td>0.0</td>\n",
       "      <td>30.0</td>\n",
       "    </tr>\n",
       "  </tbody>\n",
       "</table>\n",
       "</div>"
      ],
      "text/plain": [
       "                  days_since_prior_order           \n",
       "                                    mean  min   max\n",
       "caregiving_status                                  \n",
       "caregiver                      11.111834  0.0  30.0\n",
       "non-caregiver                  11.080806  0.0  30.0"
      ]
     },
     "execution_count": 50,
     "metadata": {},
     "output_type": "execute_result"
    }
   ],
   "source": [
    "df.groupby('caregiving_status').agg({'days_since_prior_order': ['mean', 'min', 'max']})"
   ]
  },
  {
   "cell_type": "markdown",
   "id": "f356a036",
   "metadata": {},
   "source": [
    "# Step 8: Regional Analysis"
   ]
  },
  {
   "cell_type": "code",
   "execution_count": 51,
   "id": "674fe5ef",
   "metadata": {},
   "outputs": [],
   "source": [
    "# meat eaters across regions\n",
    "\n",
    "crosstab_8_1 = pd.crosstab(df['Customer_Region'], df['meat/seafood'], dropna = False)"
   ]
  },
  {
   "cell_type": "code",
   "execution_count": 52,
   "id": "44849e1b",
   "metadata": {},
   "outputs": [
    {
     "data": {
      "text/html": [
       "<div>\n",
       "<style scoped>\n",
       "    .dataframe tbody tr th:only-of-type {\n",
       "        vertical-align: middle;\n",
       "    }\n",
       "\n",
       "    .dataframe tbody tr th {\n",
       "        vertical-align: top;\n",
       "    }\n",
       "\n",
       "    .dataframe thead th {\n",
       "        text-align: right;\n",
       "    }\n",
       "</style>\n",
       "<table border=\"1\" class=\"dataframe\">\n",
       "  <thead>\n",
       "    <tr style=\"text-align: right;\">\n",
       "      <th>meat/seafood</th>\n",
       "      <th>meat_eater</th>\n",
       "      <th>non_meat_eater</th>\n",
       "    </tr>\n",
       "    <tr>\n",
       "      <th>Customer_Region</th>\n",
       "      <th></th>\n",
       "      <th></th>\n",
       "    </tr>\n",
       "  </thead>\n",
       "  <tbody>\n",
       "    <tr>\n",
       "      <th>Midwest Region</th>\n",
       "      <td>166129</td>\n",
       "      <td>7431196</td>\n",
       "    </tr>\n",
       "    <tr>\n",
       "      <th>Northeast Region</th>\n",
       "      <td>124620</td>\n",
       "      <td>5598116</td>\n",
       "    </tr>\n",
       "    <tr>\n",
       "      <th>South Region</th>\n",
       "      <td>235752</td>\n",
       "      <td>10556133</td>\n",
       "    </tr>\n",
       "    <tr>\n",
       "      <th>West</th>\n",
       "      <td>182426</td>\n",
       "      <td>8110487</td>\n",
       "    </tr>\n",
       "  </tbody>\n",
       "</table>\n",
       "</div>"
      ],
      "text/plain": [
       "meat/seafood      meat_eater  non_meat_eater\n",
       "Customer_Region                             \n",
       "Midwest Region        166129         7431196\n",
       "Northeast Region      124620         5598116\n",
       "South Region          235752        10556133\n",
       "West                  182426         8110487"
      ]
     },
     "execution_count": 52,
     "metadata": {},
     "output_type": "execute_result"
    }
   ],
   "source": [
    "crosstab_8_1"
   ]
  },
  {
   "cell_type": "code",
   "execution_count": 53,
   "id": "98516135",
   "metadata": {},
   "outputs": [],
   "source": [
    "# alcohol consumers across regions\n",
    "crosstab_8_2 = pd.crosstab(df['Customer_Region'], df['alcohol'], dropna = False)"
   ]
  },
  {
   "cell_type": "code",
   "execution_count": 54,
   "id": "9ce7854b",
   "metadata": {},
   "outputs": [
    {
     "data": {
      "text/html": [
       "<div>\n",
       "<style scoped>\n",
       "    .dataframe tbody tr th:only-of-type {\n",
       "        vertical-align: middle;\n",
       "    }\n",
       "\n",
       "    .dataframe tbody tr th {\n",
       "        vertical-align: top;\n",
       "    }\n",
       "\n",
       "    .dataframe thead th {\n",
       "        text-align: right;\n",
       "    }\n",
       "</style>\n",
       "<table border=\"1\" class=\"dataframe\">\n",
       "  <thead>\n",
       "    <tr style=\"text-align: right;\">\n",
       "      <th>alcohol</th>\n",
       "      <th>alcohol_consumer</th>\n",
       "      <th>non_alcohol_consumer</th>\n",
       "    </tr>\n",
       "    <tr>\n",
       "      <th>Customer_Region</th>\n",
       "      <th></th>\n",
       "      <th></th>\n",
       "    </tr>\n",
       "  </thead>\n",
       "  <tbody>\n",
       "    <tr>\n",
       "      <th>Midwest Region</th>\n",
       "      <td>36186</td>\n",
       "      <td>7561139</td>\n",
       "    </tr>\n",
       "    <tr>\n",
       "      <th>Northeast Region</th>\n",
       "      <td>26542</td>\n",
       "      <td>5696194</td>\n",
       "    </tr>\n",
       "    <tr>\n",
       "      <th>South Region</th>\n",
       "      <td>51624</td>\n",
       "      <td>10740261</td>\n",
       "    </tr>\n",
       "    <tr>\n",
       "      <th>West</th>\n",
       "      <td>39344</td>\n",
       "      <td>8253569</td>\n",
       "    </tr>\n",
       "  </tbody>\n",
       "</table>\n",
       "</div>"
      ],
      "text/plain": [
       "alcohol           alcohol_consumer  non_alcohol_consumer\n",
       "Customer_Region                                         \n",
       "Midwest Region               36186               7561139\n",
       "Northeast Region             26542               5696194\n",
       "South Region                 51624              10740261\n",
       "West                         39344               8253569"
      ]
     },
     "execution_count": 54,
     "metadata": {},
     "output_type": "execute_result"
    }
   ],
   "source": [
    "crosstab_8_2"
   ]
  },
  {
   "cell_type": "code",
   "execution_count": 55,
   "id": "78ebc48e",
   "metadata": {},
   "outputs": [],
   "source": [
    "crosstab_8_3 = pd.crosstab(df['department_id'], df['Customer_Region'], dropna = False)"
   ]
  },
  {
   "cell_type": "code",
   "execution_count": 56,
   "id": "85c629ae",
   "metadata": {},
   "outputs": [
    {
     "data": {
      "text/html": [
       "<div>\n",
       "<style scoped>\n",
       "    .dataframe tbody tr th:only-of-type {\n",
       "        vertical-align: middle;\n",
       "    }\n",
       "\n",
       "    .dataframe tbody tr th {\n",
       "        vertical-align: top;\n",
       "    }\n",
       "\n",
       "    .dataframe thead th {\n",
       "        text-align: right;\n",
       "    }\n",
       "</style>\n",
       "<table border=\"1\" class=\"dataframe\">\n",
       "  <thead>\n",
       "    <tr style=\"text-align: right;\">\n",
       "      <th>Customer_Region</th>\n",
       "      <th>Midwest Region</th>\n",
       "      <th>Northeast Region</th>\n",
       "      <th>South Region</th>\n",
       "      <th>West</th>\n",
       "    </tr>\n",
       "    <tr>\n",
       "      <th>department_id</th>\n",
       "      <th></th>\n",
       "      <th></th>\n",
       "      <th></th>\n",
       "      <th></th>\n",
       "    </tr>\n",
       "  </thead>\n",
       "  <tbody>\n",
       "    <tr>\n",
       "      <th>1</th>\n",
       "      <td>524096</td>\n",
       "      <td>390918</td>\n",
       "      <td>747900</td>\n",
       "      <td>571829</td>\n",
       "    </tr>\n",
       "    <tr>\n",
       "      <th>2</th>\n",
       "      <td>8420</td>\n",
       "      <td>6585</td>\n",
       "      <td>12212</td>\n",
       "      <td>9074</td>\n",
       "    </tr>\n",
       "    <tr>\n",
       "      <th>3</th>\n",
       "      <td>273869</td>\n",
       "      <td>208599</td>\n",
       "      <td>388815</td>\n",
       "      <td>301145</td>\n",
       "    </tr>\n",
       "    <tr>\n",
       "      <th>4</th>\n",
       "      <td>2227937</td>\n",
       "      <td>1665839</td>\n",
       "      <td>3160551</td>\n",
       "      <td>2424964</td>\n",
       "    </tr>\n",
       "    <tr>\n",
       "      <th>5</th>\n",
       "      <td>36186</td>\n",
       "      <td>26542</td>\n",
       "      <td>51624</td>\n",
       "      <td>39344</td>\n",
       "    </tr>\n",
       "    <tr>\n",
       "      <th>6</th>\n",
       "      <td>63736</td>\n",
       "      <td>46891</td>\n",
       "      <td>89142</td>\n",
       "      <td>69484</td>\n",
       "    </tr>\n",
       "    <tr>\n",
       "      <th>7</th>\n",
       "      <td>625574</td>\n",
       "      <td>483418</td>\n",
       "      <td>898940</td>\n",
       "      <td>680191</td>\n",
       "    </tr>\n",
       "    <tr>\n",
       "      <th>8</th>\n",
       "      <td>22355</td>\n",
       "      <td>18601</td>\n",
       "      <td>31269</td>\n",
       "      <td>25491</td>\n",
       "    </tr>\n",
       "    <tr>\n",
       "      <th>9</th>\n",
       "      <td>203769</td>\n",
       "      <td>151816</td>\n",
       "      <td>287444</td>\n",
       "      <td>223598</td>\n",
       "    </tr>\n",
       "    <tr>\n",
       "      <th>10</th>\n",
       "      <td>8193</td>\n",
       "      <td>5802</td>\n",
       "      <td>11533</td>\n",
       "      <td>9045</td>\n",
       "    </tr>\n",
       "    <tr>\n",
       "      <th>11</th>\n",
       "      <td>105749</td>\n",
       "      <td>78815</td>\n",
       "      <td>150350</td>\n",
       "      <td>112658</td>\n",
       "    </tr>\n",
       "    <tr>\n",
       "      <th>12</th>\n",
       "      <td>166129</td>\n",
       "      <td>124620</td>\n",
       "      <td>235752</td>\n",
       "      <td>182426</td>\n",
       "    </tr>\n",
       "    <tr>\n",
       "      <th>13</th>\n",
       "      <td>442101</td>\n",
       "      <td>329445</td>\n",
       "      <td>622436</td>\n",
       "      <td>481387</td>\n",
       "    </tr>\n",
       "    <tr>\n",
       "      <th>14</th>\n",
       "      <td>163551</td>\n",
       "      <td>123574</td>\n",
       "      <td>234251</td>\n",
       "      <td>181657</td>\n",
       "    </tr>\n",
       "    <tr>\n",
       "      <th>15</th>\n",
       "      <td>250702</td>\n",
       "      <td>186755</td>\n",
       "      <td>356015</td>\n",
       "      <td>274586</td>\n",
       "    </tr>\n",
       "    <tr>\n",
       "      <th>16</th>\n",
       "      <td>1264223</td>\n",
       "      <td>954026</td>\n",
       "      <td>1796969</td>\n",
       "      <td>1383529</td>\n",
       "    </tr>\n",
       "    <tr>\n",
       "      <th>17</th>\n",
       "      <td>175824</td>\n",
       "      <td>131485</td>\n",
       "      <td>243070</td>\n",
       "      <td>188287</td>\n",
       "    </tr>\n",
       "    <tr>\n",
       "      <th>18</th>\n",
       "      <td>98983</td>\n",
       "      <td>75139</td>\n",
       "      <td>143654</td>\n",
       "      <td>106026</td>\n",
       "    </tr>\n",
       "    <tr>\n",
       "      <th>19</th>\n",
       "      <td>673715</td>\n",
       "      <td>514675</td>\n",
       "      <td>957346</td>\n",
       "      <td>741814</td>\n",
       "    </tr>\n",
       "    <tr>\n",
       "      <th>20</th>\n",
       "      <td>245678</td>\n",
       "      <td>186817</td>\n",
       "      <td>349419</td>\n",
       "      <td>269335</td>\n",
       "    </tr>\n",
       "    <tr>\n",
       "      <th>21</th>\n",
       "      <td>16535</td>\n",
       "      <td>12374</td>\n",
       "      <td>23193</td>\n",
       "      <td>17043</td>\n",
       "    </tr>\n",
       "  </tbody>\n",
       "</table>\n",
       "</div>"
      ],
      "text/plain": [
       "Customer_Region  Midwest Region  Northeast Region  South Region     West\n",
       "department_id                                                           \n",
       "1                        524096            390918        747900   571829\n",
       "2                          8420              6585         12212     9074\n",
       "3                        273869            208599        388815   301145\n",
       "4                       2227937           1665839       3160551  2424964\n",
       "5                         36186             26542         51624    39344\n",
       "6                         63736             46891         89142    69484\n",
       "7                        625574            483418        898940   680191\n",
       "8                         22355             18601         31269    25491\n",
       "9                        203769            151816        287444   223598\n",
       "10                         8193              5802         11533     9045\n",
       "11                       105749             78815        150350   112658\n",
       "12                       166129            124620        235752   182426\n",
       "13                       442101            329445        622436   481387\n",
       "14                       163551            123574        234251   181657\n",
       "15                       250702            186755        356015   274586\n",
       "16                      1264223            954026       1796969  1383529\n",
       "17                       175824            131485        243070   188287\n",
       "18                        98983             75139        143654   106026\n",
       "19                       673715            514675        957346   741814\n",
       "20                       245678            186817        349419   269335\n",
       "21                        16535             12374         23193    17043"
      ]
     },
     "execution_count": 56,
     "metadata": {},
     "output_type": "execute_result"
    }
   ],
   "source": [
    "crosstab_8_3"
   ]
  },
  {
   "cell_type": "code",
   "execution_count": 57,
   "id": "9b34754d",
   "metadata": {},
   "outputs": [
    {
     "data": {
      "image/png": "[encoded data removed]",
      "text/plain": [
       "<Figure size 640x480 with 1 Axes>"
      ]
     },
     "metadata": {},
     "output_type": "display_data"
    }
   ],
   "source": [
    "bar_department_region = crosstab_8_3.plot.bar()"
   ]
  },
  {
   "cell_type": "code",
   "execution_count": 58,
   "id": "bb14a0b7",
   "metadata": {},
   "outputs": [],
   "source": [
    "# 1 = frozen\n",
    "# 2 = other\n",
    "# 3 = bakery\n",
    "# 4 = produce\n",
    "# 5 = alcohol \n",
    "# 6 = international\n",
    "# 7 = beverages\n",
    "# 8 = pets\n",
    "# 9 = dry goods pasta\n",
    "# 10 = bulk\n",
    "# 11 = personal care\n",
    "# 12 = meat seafood\n",
    "# 13 = pantry\n",
    "# 14 = breakfast\n",
    "# 15 = canned goods\n",
    "# 16 = dairy eggs\n",
    "# 17 = household\n",
    "# 18 = babies\n",
    "# 19 = snacks\n",
    "# 20 = deli\n",
    "# 21 = missing"
   ]
  },
  {
   "cell_type": "code",
   "execution_count": 59,
   "id": "a50efaa2",
   "metadata": {},
   "outputs": [],
   "source": [
    "# Produce department is most popular followed by dairy and eggs. Both are expected. \n",
    "# There seems to be a predictable trend throughout the regions, South region is the biggest and has most sales. \n",
    "# All the Departments have the same patterns in each region (South, West, Midwest, Northeast in decending order of sales) "
   ]
  },
  {
   "cell_type": "code",
   "execution_count": 60,
   "id": "397e9fb9",
   "metadata": {},
   "outputs": [],
   "source": [
    "bar_department_region.figure.savefig(os.path.join(path, '04 Analysis','Visualizations', 'bar_department_region.png'))"
   ]
  },
  {
   "cell_type": "markdown",
   "id": "df7342c4",
   "metadata": {},
   "source": [
    "# Step 9: specific charts/analysis based on project brief"
   ]
  },
  {
   "cell_type": "code",
   "execution_count": 61,
   "id": "9f354dba",
   "metadata": {},
   "outputs": [],
   "source": [
    "# The sales team needs to know what the busiest days of the week and hours of the day are:\n",
    "\n",
    "crosstab_9_1 = pd.crosstab(df['order_hour_of_day'], df['orders_day_of_week'], dropna = False)"
   ]
  },
  {
   "cell_type": "code",
   "execution_count": 62,
   "id": "542dbebb",
   "metadata": {},
   "outputs": [
    {
     "data": {
      "text/html": [
       "<div>\n",
       "<style scoped>\n",
       "    .dataframe tbody tr th:only-of-type {\n",
       "        vertical-align: middle;\n",
       "    }\n",
       "\n",
       "    .dataframe tbody tr th {\n",
       "        vertical-align: top;\n",
       "    }\n",
       "\n",
       "    .dataframe thead th {\n",
       "        text-align: right;\n",
       "    }\n",
       "</style>\n",
       "<table border=\"1\" class=\"dataframe\">\n",
       "  <thead>\n",
       "    <tr style=\"text-align: right;\">\n",
       "      <th>orders_day_of_week</th>\n",
       "      <th>0</th>\n",
       "      <th>1</th>\n",
       "      <th>2</th>\n",
       "      <th>3</th>\n",
       "      <th>4</th>\n",
       "      <th>5</th>\n",
       "      <th>6</th>\n",
       "    </tr>\n",
       "    <tr>\n",
       "      <th>order_hour_of_day</th>\n",
       "      <th></th>\n",
       "      <th></th>\n",
       "      <th></th>\n",
       "      <th></th>\n",
       "      <th></th>\n",
       "      <th></th>\n",
       "      <th></th>\n",
       "    </tr>\n",
       "  </thead>\n",
       "  <tbody>\n",
       "    <tr>\n",
       "      <th>0</th>\n",
       "      <td>38841</td>\n",
       "      <td>37086</td>\n",
       "      <td>29892</td>\n",
       "      <td>27503</td>\n",
       "      <td>24701</td>\n",
       "      <td>29491</td>\n",
       "      <td>31255</td>\n",
       "    </tr>\n",
       "    <tr>\n",
       "      <th>1</th>\n",
       "      <td>22501</td>\n",
       "      <td>18282</td>\n",
       "      <td>14703</td>\n",
       "      <td>13553</td>\n",
       "      <td>13518</td>\n",
       "      <td>14954</td>\n",
       "      <td>18189</td>\n",
       "    </tr>\n",
       "    <tr>\n",
       "      <th>2</th>\n",
       "      <td>12715</td>\n",
       "      <td>10806</td>\n",
       "      <td>8335</td>\n",
       "      <td>8655</td>\n",
       "      <td>7972</td>\n",
       "      <td>9511</td>\n",
       "      <td>11381</td>\n",
       "    </tr>\n",
       "    <tr>\n",
       "      <th>3</th>\n",
       "      <td>8846</td>\n",
       "      <td>7110</td>\n",
       "      <td>7020</td>\n",
       "      <td>5768</td>\n",
       "      <td>6328</td>\n",
       "      <td>8318</td>\n",
       "      <td>7891</td>\n",
       "    </tr>\n",
       "    <tr>\n",
       "      <th>4</th>\n",
       "      <td>8367</td>\n",
       "      <td>7667</td>\n",
       "      <td>6797</td>\n",
       "      <td>6835</td>\n",
       "      <td>6916</td>\n",
       "      <td>8732</td>\n",
       "      <td>7928</td>\n",
       "    </tr>\n",
       "    <tr>\n",
       "      <th>5</th>\n",
       "      <td>11619</td>\n",
       "      <td>14405</td>\n",
       "      <td>12731</td>\n",
       "      <td>11730</td>\n",
       "      <td>11992</td>\n",
       "      <td>14720</td>\n",
       "      <td>10764</td>\n",
       "    </tr>\n",
       "    <tr>\n",
       "      <th>6</th>\n",
       "      <td>34950</td>\n",
       "      <td>52726</td>\n",
       "      <td>43763</td>\n",
       "      <td>40913</td>\n",
       "      <td>39794</td>\n",
       "      <td>46246</td>\n",
       "      <td>32101</td>\n",
       "    </tr>\n",
       "    <tr>\n",
       "      <th>7</th>\n",
       "      <td>133248</td>\n",
       "      <td>165281</td>\n",
       "      <td>122357</td>\n",
       "      <td>110601</td>\n",
       "      <td>113397</td>\n",
       "      <td>128747</td>\n",
       "      <td>117423</td>\n",
       "    </tr>\n",
       "    <tr>\n",
       "      <th>8</th>\n",
       "      <td>306184</td>\n",
       "      <td>332932</td>\n",
       "      <td>223793</td>\n",
       "      <td>198205</td>\n",
       "      <td>193955</td>\n",
       "      <td>223920</td>\n",
       "      <td>239129</td>\n",
       "    </tr>\n",
       "    <tr>\n",
       "      <th>9</th>\n",
       "      <td>440896</td>\n",
       "      <td>505499</td>\n",
       "      <td>328858</td>\n",
       "      <td>277874</td>\n",
       "      <td>269763</td>\n",
       "      <td>314744</td>\n",
       "      <td>316569</td>\n",
       "    </tr>\n",
       "    <tr>\n",
       "      <th>10</th>\n",
       "      <td>515688</td>\n",
       "      <td>549633</td>\n",
       "      <td>359629</td>\n",
       "      <td>313131</td>\n",
       "      <td>305681</td>\n",
       "      <td>355223</td>\n",
       "      <td>362775</td>\n",
       "    </tr>\n",
       "    <tr>\n",
       "      <th>11</th>\n",
       "      <td>535299</td>\n",
       "      <td>509186</td>\n",
       "      <td>352366</td>\n",
       "      <td>310629</td>\n",
       "      <td>300581</td>\n",
       "      <td>353542</td>\n",
       "      <td>374537</td>\n",
       "    </tr>\n",
       "    <tr>\n",
       "      <th>12</th>\n",
       "      <td>534854</td>\n",
       "      <td>462540</td>\n",
       "      <td>329098</td>\n",
       "      <td>296149</td>\n",
       "      <td>289158</td>\n",
       "      <td>333450</td>\n",
       "      <td>373283</td>\n",
       "    </tr>\n",
       "    <tr>\n",
       "      <th>13</th>\n",
       "      <td>557922</td>\n",
       "      <td>457030</td>\n",
       "      <td>334267</td>\n",
       "      <td>302479</td>\n",
       "      <td>293340</td>\n",
       "      <td>336140</td>\n",
       "      <td>379776</td>\n",
       "    </tr>\n",
       "    <tr>\n",
       "      <th>14</th>\n",
       "      <td>564393</td>\n",
       "      <td>452772</td>\n",
       "      <td>334795</td>\n",
       "      <td>304033</td>\n",
       "      <td>296738</td>\n",
       "      <td>345656</td>\n",
       "      <td>390749</td>\n",
       "    </tr>\n",
       "    <tr>\n",
       "      <th>15</th>\n",
       "      <td>551565</td>\n",
       "      <td>442473</td>\n",
       "      <td>333763</td>\n",
       "      <td>313986</td>\n",
       "      <td>299107</td>\n",
       "      <td>342865</td>\n",
       "      <td>378385</td>\n",
       "    </tr>\n",
       "    <tr>\n",
       "      <th>16</th>\n",
       "      <td>501181</td>\n",
       "      <td>418173</td>\n",
       "      <td>330622</td>\n",
       "      <td>306114</td>\n",
       "      <td>297981</td>\n",
       "      <td>326922</td>\n",
       "      <td>354209</td>\n",
       "    </tr>\n",
       "    <tr>\n",
       "      <th>17</th>\n",
       "      <td>395353</td>\n",
       "      <td>337623</td>\n",
       "      <td>277383</td>\n",
       "      <td>260895</td>\n",
       "      <td>253874</td>\n",
       "      <td>270407</td>\n",
       "      <td>292119</td>\n",
       "    </tr>\n",
       "    <tr>\n",
       "      <th>18</th>\n",
       "      <td>284252</td>\n",
       "      <td>259223</td>\n",
       "      <td>226650</td>\n",
       "      <td>213091</td>\n",
       "      <td>207325</td>\n",
       "      <td>217553</td>\n",
       "      <td>228408</td>\n",
       "    </tr>\n",
       "    <tr>\n",
       "      <th>19</th>\n",
       "      <td>217145</td>\n",
       "      <td>198944</td>\n",
       "      <td>170657</td>\n",
       "      <td>164207</td>\n",
       "      <td>168851</td>\n",
       "      <td>166838</td>\n",
       "      <td>171663</td>\n",
       "    </tr>\n",
       "    <tr>\n",
       "      <th>20</th>\n",
       "      <td>183680</td>\n",
       "      <td>151997</td>\n",
       "      <td>130768</td>\n",
       "      <td>122128</td>\n",
       "      <td>130502</td>\n",
       "      <td>125898</td>\n",
       "      <td>131183</td>\n",
       "    </tr>\n",
       "    <tr>\n",
       "      <th>21</th>\n",
       "      <td>152993</td>\n",
       "      <td>119850</td>\n",
       "      <td>102749</td>\n",
       "      <td>100512</td>\n",
       "      <td>108293</td>\n",
       "      <td>99126</td>\n",
       "      <td>112114</td>\n",
       "    </tr>\n",
       "    <tr>\n",
       "      <th>22</th>\n",
       "      <td>120747</td>\n",
       "      <td>91765</td>\n",
       "      <td>80258</td>\n",
       "      <td>81401</td>\n",
       "      <td>89402</td>\n",
       "      <td>78790</td>\n",
       "      <td>91862</td>\n",
       "    </tr>\n",
       "    <tr>\n",
       "      <th>23</th>\n",
       "      <td>70943</td>\n",
       "      <td>57227</td>\n",
       "      <td>52576</td>\n",
       "      <td>50142</td>\n",
       "      <td>54633</td>\n",
       "      <td>53998</td>\n",
       "      <td>62797</td>\n",
       "    </tr>\n",
       "  </tbody>\n",
       "</table>\n",
       "</div>"
      ],
      "text/plain": [
       "orders_day_of_week       0       1       2       3       4       5       6\n",
       "order_hour_of_day                                                         \n",
       "0                    38841   37086   29892   27503   24701   29491   31255\n",
       "1                    22501   18282   14703   13553   13518   14954   18189\n",
       "2                    12715   10806    8335    8655    7972    9511   11381\n",
       "3                     8846    7110    7020    5768    6328    8318    7891\n",
       "4                     8367    7667    6797    6835    6916    8732    7928\n",
       "5                    11619   14405   12731   11730   11992   14720   10764\n",
       "6                    34950   52726   43763   40913   39794   46246   32101\n",
       "7                   133248  165281  122357  110601  113397  128747  117423\n",
       "8                   306184  332932  223793  198205  193955  223920  239129\n",
       "9                   440896  505499  328858  277874  269763  314744  316569\n",
       "10                  515688  549633  359629  313131  305681  355223  362775\n",
       "11                  535299  509186  352366  310629  300581  353542  374537\n",
       "12                  534854  462540  329098  296149  289158  333450  373283\n",
       "13                  557922  457030  334267  302479  293340  336140  379776\n",
       "14                  564393  452772  334795  304033  296738  345656  390749\n",
       "15                  551565  442473  333763  313986  299107  342865  378385\n",
       "16                  501181  418173  330622  306114  297981  326922  354209\n",
       "17                  395353  337623  277383  260895  253874  270407  292119\n",
       "18                  284252  259223  226650  213091  207325  217553  228408\n",
       "19                  217145  198944  170657  164207  168851  166838  171663\n",
       "20                  183680  151997  130768  122128  130502  125898  131183\n",
       "21                  152993  119850  102749  100512  108293   99126  112114\n",
       "22                  120747   91765   80258   81401   89402   78790   91862\n",
       "23                   70943   57227   52576   50142   54633   53998   62797"
      ]
     },
     "execution_count": 62,
     "metadata": {},
     "output_type": "execute_result"
    }
   ],
   "source": [
    "crosstab_9_1"
   ]
  },
  {
   "cell_type": "code",
   "execution_count": 63,
   "id": "2ba1aa06",
   "metadata": {},
   "outputs": [
    {
     "data": {
      "image/png": "[encoded data removed]",
      "text/plain": [
       "<Figure size 640x480 with 1 Axes>"
      ]
     },
     "metadata": {},
     "output_type": "display_data"
    }
   ],
   "source": [
    "bar_busiest_days_and_hours = crosstab_9_1.plot.bar()"
   ]
  },
  {
   "cell_type": "code",
   "execution_count": 64,
   "id": "2f581132",
   "metadata": {},
   "outputs": [],
   "source": [
    "bar_busiest_days_and_hours.figure.savefig(os.path.join(path, '04 Analysis','Visualizations', 'bar_busy_times.png'))"
   ]
  },
  {
   "cell_type": "code",
   "execution_count": 65,
   "id": "43ee953d",
   "metadata": {},
   "outputs": [],
   "source": [
    "# They also want to know whether there are particular times of the day when people spend the most money, as this might inform the type of products they advertise at these times.\n",
    "\n",
    "# Chart 9_1 highlights busy hours of day visually, uptick of sales around 7am, with a peak at 10am (as previously analyzed) and decreasing sales after around 4pm. \n",
    "# Mean order has too much data to analyze for insight. "
   ]
  },
  {
   "cell_type": "code",
   "execution_count": 68,
   "id": "c8acffbc",
   "metadata": {},
   "outputs": [],
   "source": [
    "# Instacart has a lot of products with different price tags. Marketing and sales want to use simpler price range groupings to help direct their efforts.\n",
    "\n",
    "# additional to 'price' category, a 'price_range' category was created previously to provide grouping of products:\n",
    "\n",
    "crosstab_9_2 = pd.crosstab(df['order_hour_of_day'], df['price_range'], dropna = False)"
   ]
  },
  {
   "cell_type": "code",
   "execution_count": 69,
   "id": "1da1a0a3",
   "metadata": {},
   "outputs": [
    {
     "data": {
      "text/html": [
       "<div>\n",
       "<style scoped>\n",
       "    .dataframe tbody tr th:only-of-type {\n",
       "        vertical-align: middle;\n",
       "    }\n",
       "\n",
       "    .dataframe tbody tr th {\n",
       "        vertical-align: top;\n",
       "    }\n",
       "\n",
       "    .dataframe thead th {\n",
       "        text-align: right;\n",
       "    }\n",
       "</style>\n",
       "<table border=\"1\" class=\"dataframe\">\n",
       "  <thead>\n",
       "    <tr style=\"text-align: right;\">\n",
       "      <th>price_range</th>\n",
       "      <th>High range</th>\n",
       "      <th>Low-range product</th>\n",
       "      <th>Mid-range product</th>\n",
       "    </tr>\n",
       "    <tr>\n",
       "      <th>order_hour_of_day</th>\n",
       "      <th></th>\n",
       "      <th></th>\n",
       "      <th></th>\n",
       "    </tr>\n",
       "  </thead>\n",
       "  <tbody>\n",
       "    <tr>\n",
       "      <th>0</th>\n",
       "      <td>2779</td>\n",
       "      <td>68160</td>\n",
       "      <td>147830</td>\n",
       "    </tr>\n",
       "    <tr>\n",
       "      <th>1</th>\n",
       "      <td>1416</td>\n",
       "      <td>35953</td>\n",
       "      <td>78331</td>\n",
       "    </tr>\n",
       "    <tr>\n",
       "      <th>2</th>\n",
       "      <td>925</td>\n",
       "      <td>21785</td>\n",
       "      <td>46665</td>\n",
       "    </tr>\n",
       "    <tr>\n",
       "      <th>3</th>\n",
       "      <td>647</td>\n",
       "      <td>15795</td>\n",
       "      <td>34839</td>\n",
       "    </tr>\n",
       "    <tr>\n",
       "      <th>4</th>\n",
       "      <td>696</td>\n",
       "      <td>16507</td>\n",
       "      <td>36039</td>\n",
       "    </tr>\n",
       "    <tr>\n",
       "      <th>5</th>\n",
       "      <td>1067</td>\n",
       "      <td>27214</td>\n",
       "      <td>59680</td>\n",
       "    </tr>\n",
       "    <tr>\n",
       "      <th>6</th>\n",
       "      <td>3740</td>\n",
       "      <td>89902</td>\n",
       "      <td>196851</td>\n",
       "    </tr>\n",
       "    <tr>\n",
       "      <th>7</th>\n",
       "      <td>11595</td>\n",
       "      <td>275920</td>\n",
       "      <td>603539</td>\n",
       "    </tr>\n",
       "    <tr>\n",
       "      <th>8</th>\n",
       "      <td>21947</td>\n",
       "      <td>536748</td>\n",
       "      <td>1159423</td>\n",
       "    </tr>\n",
       "    <tr>\n",
       "      <th>9</th>\n",
       "      <td>29696</td>\n",
       "      <td>775279</td>\n",
       "      <td>1649228</td>\n",
       "    </tr>\n",
       "    <tr>\n",
       "      <th>10</th>\n",
       "      <td>33801</td>\n",
       "      <td>873664</td>\n",
       "      <td>1854295</td>\n",
       "    </tr>\n",
       "    <tr>\n",
       "      <th>11</th>\n",
       "      <td>35439</td>\n",
       "      <td>860467</td>\n",
       "      <td>1840234</td>\n",
       "    </tr>\n",
       "    <tr>\n",
       "      <th>12</th>\n",
       "      <td>34573</td>\n",
       "      <td>819742</td>\n",
       "      <td>1764217</td>\n",
       "    </tr>\n",
       "    <tr>\n",
       "      <th>13</th>\n",
       "      <td>35049</td>\n",
       "      <td>830490</td>\n",
       "      <td>1795415</td>\n",
       "    </tr>\n",
       "    <tr>\n",
       "      <th>14</th>\n",
       "      <td>35436</td>\n",
       "      <td>837566</td>\n",
       "      <td>1816134</td>\n",
       "    </tr>\n",
       "    <tr>\n",
       "      <th>15</th>\n",
       "      <td>35474</td>\n",
       "      <td>828700</td>\n",
       "      <td>1797970</td>\n",
       "    </tr>\n",
       "    <tr>\n",
       "      <th>16</th>\n",
       "      <td>33566</td>\n",
       "      <td>789191</td>\n",
       "      <td>1712445</td>\n",
       "    </tr>\n",
       "    <tr>\n",
       "      <th>17</th>\n",
       "      <td>27016</td>\n",
       "      <td>650258</td>\n",
       "      <td>1410380</td>\n",
       "    </tr>\n",
       "    <tr>\n",
       "      <th>18</th>\n",
       "      <td>21266</td>\n",
       "      <td>509103</td>\n",
       "      <td>1106133</td>\n",
       "    </tr>\n",
       "    <tr>\n",
       "      <th>19</th>\n",
       "      <td>15703</td>\n",
       "      <td>392448</td>\n",
       "      <td>850154</td>\n",
       "    </tr>\n",
       "    <tr>\n",
       "      <th>20</th>\n",
       "      <td>12401</td>\n",
       "      <td>303498</td>\n",
       "      <td>660257</td>\n",
       "    </tr>\n",
       "    <tr>\n",
       "      <th>21</th>\n",
       "      <td>10286</td>\n",
       "      <td>246963</td>\n",
       "      <td>538388</td>\n",
       "    </tr>\n",
       "    <tr>\n",
       "      <th>22</th>\n",
       "      <td>8037</td>\n",
       "      <td>196106</td>\n",
       "      <td>430082</td>\n",
       "    </tr>\n",
       "    <tr>\n",
       "      <th>23</th>\n",
       "      <td>5123</td>\n",
       "      <td>124862</td>\n",
       "      <td>272331</td>\n",
       "    </tr>\n",
       "  </tbody>\n",
       "</table>\n",
       "</div>"
      ],
      "text/plain": [
       "price_range        High range  Low-range product  Mid-range product\n",
       "order_hour_of_day                                                  \n",
       "0                        2779              68160             147830\n",
       "1                        1416              35953              78331\n",
       "2                         925              21785              46665\n",
       "3                         647              15795              34839\n",
       "4                         696              16507              36039\n",
       "5                        1067              27214              59680\n",
       "6                        3740              89902             196851\n",
       "7                       11595             275920             603539\n",
       "8                       21947             536748            1159423\n",
       "9                       29696             775279            1649228\n",
       "10                      33801             873664            1854295\n",
       "11                      35439             860467            1840234\n",
       "12                      34573             819742            1764217\n",
       "13                      35049             830490            1795415\n",
       "14                      35436             837566            1816134\n",
       "15                      35474             828700            1797970\n",
       "16                      33566             789191            1712445\n",
       "17                      27016             650258            1410380\n",
       "18                      21266             509103            1106133\n",
       "19                      15703             392448             850154\n",
       "20                      12401             303498             660257\n",
       "21                      10286             246963             538388\n",
       "22                       8037             196106             430082\n",
       "23                       5123             124862             272331"
      ]
     },
     "execution_count": 69,
     "metadata": {},
     "output_type": "execute_result"
    }
   ],
   "source": [
    "crosstab_9_2"
   ]
  },
  {
   "cell_type": "code",
   "execution_count": 70,
   "id": "0ff93f70",
   "metadata": {},
   "outputs": [
    {
     "data": {
      "image/png": "[encoded data removed]",
      "text/plain": [
       "<Figure size 640x480 with 1 Axes>"
      ]
     },
     "metadata": {},
     "output_type": "display_data"
    }
   ],
   "source": [
    "bar_price_range = crosstab_9_2.plot.bar()"
   ]
  },
  {
   "cell_type": "code",
   "execution_count": 71,
   "id": "e18793ab",
   "metadata": {},
   "outputs": [],
   "source": [
    "bar_price_range.figure.savefig(os.path.join(path, '04 Analysis','Visualizations', 'bar_price_range.png'))"
   ]
  },
  {
   "cell_type": "code",
   "execution_count": 72,
   "id": "ad73669b",
   "metadata": {},
   "outputs": [
    {
     "data": {
      "text/plain": [
       "Mid-range product    21860860\n",
       "Low-range product    10126321\n",
       "High range             417678\n",
       "Name: price_range, dtype: int64"
      ]
     },
     "execution_count": 72,
     "metadata": {},
     "output_type": "execute_result"
    }
   ],
   "source": [
    "df['price_range'].value_counts()"
   ]
  },
  {
   "cell_type": "code",
   "execution_count": 73,
   "id": "349186c4",
   "metadata": {},
   "outputs": [],
   "source": [
    "# Are there certain types of products that are more popular than others? The marketing and sales teams want to know which departments have the highest frequency of product orders.\n",
    "# frequency_flag previously created\n",
    "\n",
    "crosstab_9_3 = pd.crosstab(df['department_id'], df['frequency_flag'], dropna = False)"
   ]
  },
  {
   "cell_type": "code",
   "execution_count": 74,
   "id": "9e10cc29",
   "metadata": {},
   "outputs": [
    {
     "data": {
      "text/html": [
       "<div>\n",
       "<style scoped>\n",
       "    .dataframe tbody tr th:only-of-type {\n",
       "        vertical-align: middle;\n",
       "    }\n",
       "\n",
       "    .dataframe tbody tr th {\n",
       "        vertical-align: top;\n",
       "    }\n",
       "\n",
       "    .dataframe thead th {\n",
       "        text-align: right;\n",
       "    }\n",
       "</style>\n",
       "<table border=\"1\" class=\"dataframe\">\n",
       "  <thead>\n",
       "    <tr style=\"text-align: right;\">\n",
       "      <th>frequency_flag</th>\n",
       "      <th>Frequent customer</th>\n",
       "      <th>Non-frequent customer</th>\n",
       "      <th>Regular customer</th>\n",
       "    </tr>\n",
       "    <tr>\n",
       "      <th>department_id</th>\n",
       "      <th></th>\n",
       "      <th></th>\n",
       "      <th></th>\n",
       "    </tr>\n",
       "  </thead>\n",
       "  <tbody>\n",
       "    <tr>\n",
       "      <th>1</th>\n",
       "      <td>1395346</td>\n",
       "      <td>287232</td>\n",
       "      <td>552164</td>\n",
       "    </tr>\n",
       "    <tr>\n",
       "      <th>2</th>\n",
       "      <td>24080</td>\n",
       "      <td>4204</td>\n",
       "      <td>8007</td>\n",
       "    </tr>\n",
       "    <tr>\n",
       "      <th>3</th>\n",
       "      <td>782925</td>\n",
       "      <td>129647</td>\n",
       "      <td>259856</td>\n",
       "    </tr>\n",
       "    <tr>\n",
       "      <th>4</th>\n",
       "      <td>6463262</td>\n",
       "      <td>990592</td>\n",
       "      <td>2025435</td>\n",
       "    </tr>\n",
       "    <tr>\n",
       "      <th>5</th>\n",
       "      <td>103146</td>\n",
       "      <td>17685</td>\n",
       "      <td>32865</td>\n",
       "    </tr>\n",
       "    <tr>\n",
       "      <th>6</th>\n",
       "      <td>173918</td>\n",
       "      <td>33079</td>\n",
       "      <td>62256</td>\n",
       "    </tr>\n",
       "    <tr>\n",
       "      <th>7</th>\n",
       "      <td>1784868</td>\n",
       "      <td>304072</td>\n",
       "      <td>599183</td>\n",
       "    </tr>\n",
       "    <tr>\n",
       "      <th>8</th>\n",
       "      <td>59767</td>\n",
       "      <td>11925</td>\n",
       "      <td>26024</td>\n",
       "    </tr>\n",
       "    <tr>\n",
       "      <th>9</th>\n",
       "      <td>544124</td>\n",
       "      <td>111456</td>\n",
       "      <td>211047</td>\n",
       "    </tr>\n",
       "    <tr>\n",
       "      <th>10</th>\n",
       "      <td>25371</td>\n",
       "      <td>3066</td>\n",
       "      <td>6136</td>\n",
       "    </tr>\n",
       "    <tr>\n",
       "      <th>11</th>\n",
       "      <td>280053</td>\n",
       "      <td>59075</td>\n",
       "      <td>108444</td>\n",
       "    </tr>\n",
       "    <tr>\n",
       "      <th>12</th>\n",
       "      <td>457658</td>\n",
       "      <td>84615</td>\n",
       "      <td>166654</td>\n",
       "    </tr>\n",
       "    <tr>\n",
       "      <th>13</th>\n",
       "      <td>1216702</td>\n",
       "      <td>230165</td>\n",
       "      <td>428502</td>\n",
       "    </tr>\n",
       "    <tr>\n",
       "      <th>14</th>\n",
       "      <td>463571</td>\n",
       "      <td>80674</td>\n",
       "      <td>158788</td>\n",
       "    </tr>\n",
       "    <tr>\n",
       "      <th>15</th>\n",
       "      <td>671983</td>\n",
       "      <td>137430</td>\n",
       "      <td>258645</td>\n",
       "    </tr>\n",
       "    <tr>\n",
       "      <th>16</th>\n",
       "      <td>3677609</td>\n",
       "      <td>567109</td>\n",
       "      <td>1154028</td>\n",
       "    </tr>\n",
       "    <tr>\n",
       "      <th>17</th>\n",
       "      <td>446148</td>\n",
       "      <td>106496</td>\n",
       "      <td>186021</td>\n",
       "    </tr>\n",
       "    <tr>\n",
       "      <th>18</th>\n",
       "      <td>319940</td>\n",
       "      <td>31932</td>\n",
       "      <td>71930</td>\n",
       "    </tr>\n",
       "    <tr>\n",
       "      <th>19</th>\n",
       "      <td>1933463</td>\n",
       "      <td>317524</td>\n",
       "      <td>636563</td>\n",
       "    </tr>\n",
       "    <tr>\n",
       "      <th>20</th>\n",
       "      <td>685793</td>\n",
       "      <td>122881</td>\n",
       "      <td>242575</td>\n",
       "    </tr>\n",
       "    <tr>\n",
       "      <th>21</th>\n",
       "      <td>50126</td>\n",
       "      <td>5578</td>\n",
       "      <td>13441</td>\n",
       "    </tr>\n",
       "  </tbody>\n",
       "</table>\n",
       "</div>"
      ],
      "text/plain": [
       "frequency_flag  Frequent customer  Non-frequent customer  Regular customer\n",
       "department_id                                                             \n",
       "1                         1395346                 287232            552164\n",
       "2                           24080                   4204              8007\n",
       "3                          782925                 129647            259856\n",
       "4                         6463262                 990592           2025435\n",
       "5                          103146                  17685             32865\n",
       "6                          173918                  33079             62256\n",
       "7                         1784868                 304072            599183\n",
       "8                           59767                  11925             26024\n",
       "9                          544124                 111456            211047\n",
       "10                          25371                   3066              6136\n",
       "11                         280053                  59075            108444\n",
       "12                         457658                  84615            166654\n",
       "13                        1216702                 230165            428502\n",
       "14                         463571                  80674            158788\n",
       "15                         671983                 137430            258645\n",
       "16                        3677609                 567109           1154028\n",
       "17                         446148                 106496            186021\n",
       "18                         319940                  31932             71930\n",
       "19                        1933463                 317524            636563\n",
       "20                         685793                 122881            242575\n",
       "21                          50126                   5578             13441"
      ]
     },
     "execution_count": 74,
     "metadata": {},
     "output_type": "execute_result"
    }
   ],
   "source": [
    "crosstab_9_3"
   ]
  },
  {
   "cell_type": "code",
   "execution_count": 75,
   "id": "1c826867",
   "metadata": {},
   "outputs": [
    {
     "data": {
      "image/png": "[encoded data removed]",
      "text/plain": [
       "<Figure size 640x480 with 1 Axes>"
      ]
     },
     "metadata": {},
     "output_type": "display_data"
    }
   ],
   "source": [
    "bar_frequency_flag_dep_id = crosstab_9_3.plot.bar()"
   ]
  },
  {
   "cell_type": "code",
   "execution_count": 76,
   "id": "dac66f31",
   "metadata": {},
   "outputs": [],
   "source": [
    "bar_frequency_flag_dep_id.figure.savefig(os.path.join(path, '04 Analysis','Visualizations', 'bar_frequency_flag_dep_id.png'))"
   ]
  },
  {
   "cell_type": "code",
   "execution_count": 77,
   "id": "dd3968ea",
   "metadata": {},
   "outputs": [],
   "source": [
    "# What’s the distribution among users in regards to their brand loyalty (i.e., how often do they return to Instacart)?\n",
    "\n",
    "crosstab_9_4 = pd.crosstab(df['days_since_prior_order'], df['loyalty_flag'], dropna = False)"
   ]
  },
  {
   "cell_type": "code",
   "execution_count": 78,
   "id": "305d8a9a",
   "metadata": {},
   "outputs": [
    {
     "data": {
      "text/html": [
       "<div>\n",
       "<style scoped>\n",
       "    .dataframe tbody tr th:only-of-type {\n",
       "        vertical-align: middle;\n",
       "    }\n",
       "\n",
       "    .dataframe tbody tr th {\n",
       "        vertical-align: top;\n",
       "    }\n",
       "\n",
       "    .dataframe thead th {\n",
       "        text-align: right;\n",
       "    }\n",
       "</style>\n",
       "<table border=\"1\" class=\"dataframe\">\n",
       "  <thead>\n",
       "    <tr style=\"text-align: right;\">\n",
       "      <th>loyalty_flag</th>\n",
       "      <th>Loyal customer</th>\n",
       "      <th>New customer</th>\n",
       "      <th>Regular customer</th>\n",
       "    </tr>\n",
       "    <tr>\n",
       "      <th>days_since_prior_order</th>\n",
       "      <th></th>\n",
       "      <th></th>\n",
       "      <th></th>\n",
       "    </tr>\n",
       "  </thead>\n",
       "  <tbody>\n",
       "    <tr>\n",
       "      <th>0.0</th>\n",
       "      <td>239649</td>\n",
       "      <td>50835</td>\n",
       "      <td>157845</td>\n",
       "    </tr>\n",
       "    <tr>\n",
       "      <th>1.0</th>\n",
       "      <td>626159</td>\n",
       "      <td>52138</td>\n",
       "      <td>262177</td>\n",
       "    </tr>\n",
       "    <tr>\n",
       "      <th>2.0</th>\n",
       "      <td>973214</td>\n",
       "      <td>73018</td>\n",
       "      <td>417492</td>\n",
       "    </tr>\n",
       "    <tr>\n",
       "      <th>3.0</th>\n",
       "      <td>1185968</td>\n",
       "      <td>102510</td>\n",
       "      <td>587710</td>\n",
       "    </tr>\n",
       "    <tr>\n",
       "      <th>4.0</th>\n",
       "      <td>1202971</td>\n",
       "      <td>128621</td>\n",
       "      <td>747056</td>\n",
       "    </tr>\n",
       "    <tr>\n",
       "      <th>5.0</th>\n",
       "      <td>1074717</td>\n",
       "      <td>163020</td>\n",
       "      <td>886697</td>\n",
       "    </tr>\n",
       "    <tr>\n",
       "      <th>6.0</th>\n",
       "      <td>1090986</td>\n",
       "      <td>230094</td>\n",
       "      <td>1196418</td>\n",
       "    </tr>\n",
       "    <tr>\n",
       "      <th>7.0</th>\n",
       "      <td>1351314</td>\n",
       "      <td>349823</td>\n",
       "      <td>1775061</td>\n",
       "    </tr>\n",
       "    <tr>\n",
       "      <th>8.0</th>\n",
       "      <td>643383</td>\n",
       "      <td>223448</td>\n",
       "      <td>1065114</td>\n",
       "    </tr>\n",
       "    <tr>\n",
       "      <th>9.0</th>\n",
       "      <td>347725</td>\n",
       "      <td>160456</td>\n",
       "      <td>709660</td>\n",
       "    </tr>\n",
       "    <tr>\n",
       "      <th>10.0</th>\n",
       "      <td>247991</td>\n",
       "      <td>136121</td>\n",
       "      <td>583075</td>\n",
       "    </tr>\n",
       "    <tr>\n",
       "      <th>11.0</th>\n",
       "      <td>184155</td>\n",
       "      <td>128004</td>\n",
       "      <td>508602</td>\n",
       "    </tr>\n",
       "    <tr>\n",
       "      <th>12.0</th>\n",
       "      <td>151544</td>\n",
       "      <td>132795</td>\n",
       "      <td>489825</td>\n",
       "    </tr>\n",
       "    <tr>\n",
       "      <th>13.0</th>\n",
       "      <td>136552</td>\n",
       "      <td>161485</td>\n",
       "      <td>553077</td>\n",
       "    </tr>\n",
       "    <tr>\n",
       "      <th>14.0</th>\n",
       "      <td>147364</td>\n",
       "      <td>206825</td>\n",
       "      <td>675467</td>\n",
       "    </tr>\n",
       "    <tr>\n",
       "      <th>15.0</th>\n",
       "      <td>89470</td>\n",
       "      <td>140906</td>\n",
       "      <td>441082</td>\n",
       "    </tr>\n",
       "    <tr>\n",
       "      <th>16.0</th>\n",
       "      <td>57659</td>\n",
       "      <td>101920</td>\n",
       "      <td>301756</td>\n",
       "    </tr>\n",
       "    <tr>\n",
       "      <th>17.0</th>\n",
       "      <td>44725</td>\n",
       "      <td>88554</td>\n",
       "      <td>248835</td>\n",
       "    </tr>\n",
       "    <tr>\n",
       "      <th>18.0</th>\n",
       "      <td>37008</td>\n",
       "      <td>83264</td>\n",
       "      <td>230315</td>\n",
       "    </tr>\n",
       "    <tr>\n",
       "      <th>19.0</th>\n",
       "      <td>31115</td>\n",
       "      <td>84053</td>\n",
       "      <td>219714</td>\n",
       "    </tr>\n",
       "    <tr>\n",
       "      <th>20.0</th>\n",
       "      <td>32357</td>\n",
       "      <td>99700</td>\n",
       "      <td>247675</td>\n",
       "    </tr>\n",
       "    <tr>\n",
       "      <th>21.0</th>\n",
       "      <td>33447</td>\n",
       "      <td>125828</td>\n",
       "      <td>284867</td>\n",
       "    </tr>\n",
       "    <tr>\n",
       "      <th>22.0</th>\n",
       "      <td>23358</td>\n",
       "      <td>86331</td>\n",
       "      <td>199160</td>\n",
       "    </tr>\n",
       "    <tr>\n",
       "      <th>23.0</th>\n",
       "      <td>15475</td>\n",
       "      <td>67588</td>\n",
       "      <td>142771</td>\n",
       "    </tr>\n",
       "    <tr>\n",
       "      <th>24.0</th>\n",
       "      <td>12993</td>\n",
       "      <td>58064</td>\n",
       "      <td>122364</td>\n",
       "    </tr>\n",
       "    <tr>\n",
       "      <th>25.0</th>\n",
       "      <td>11561</td>\n",
       "      <td>55691</td>\n",
       "      <td>113165</td>\n",
       "    </tr>\n",
       "    <tr>\n",
       "      <th>26.0</th>\n",
       "      <td>9099</td>\n",
       "      <td>58115</td>\n",
       "      <td>110561</td>\n",
       "    </tr>\n",
       "    <tr>\n",
       "      <th>27.0</th>\n",
       "      <td>9974</td>\n",
       "      <td>69404</td>\n",
       "      <td>124683</td>\n",
       "    </tr>\n",
       "    <tr>\n",
       "      <th>28.0</th>\n",
       "      <td>11648</td>\n",
       "      <td>89309</td>\n",
       "      <td>152194</td>\n",
       "    </tr>\n",
       "    <tr>\n",
       "      <th>29.0</th>\n",
       "      <td>7137</td>\n",
       "      <td>62505</td>\n",
       "      <td>105828</td>\n",
       "    </tr>\n",
       "    <tr>\n",
       "      <th>30.0</th>\n",
       "      <td>64663</td>\n",
       "      <td>1581266</td>\n",
       "      <td>1421445</td>\n",
       "    </tr>\n",
       "  </tbody>\n",
       "</table>\n",
       "</div>"
      ],
      "text/plain": [
       "loyalty_flag            Loyal customer  New customer  Regular customer\n",
       "days_since_prior_order                                                \n",
       "0.0                             239649         50835            157845\n",
       "1.0                             626159         52138            262177\n",
       "2.0                             973214         73018            417492\n",
       "3.0                            1185968        102510            587710\n",
       "4.0                            1202971        128621            747056\n",
       "5.0                            1074717        163020            886697\n",
       "6.0                            1090986        230094           1196418\n",
       "7.0                            1351314        349823           1775061\n",
       "8.0                             643383        223448           1065114\n",
       "9.0                             347725        160456            709660\n",
       "10.0                            247991        136121            583075\n",
       "11.0                            184155        128004            508602\n",
       "12.0                            151544        132795            489825\n",
       "13.0                            136552        161485            553077\n",
       "14.0                            147364        206825            675467\n",
       "15.0                             89470        140906            441082\n",
       "16.0                             57659        101920            301756\n",
       "17.0                             44725         88554            248835\n",
       "18.0                             37008         83264            230315\n",
       "19.0                             31115         84053            219714\n",
       "20.0                             32357         99700            247675\n",
       "21.0                             33447        125828            284867\n",
       "22.0                             23358         86331            199160\n",
       "23.0                             15475         67588            142771\n",
       "24.0                             12993         58064            122364\n",
       "25.0                             11561         55691            113165\n",
       "26.0                              9099         58115            110561\n",
       "27.0                              9974         69404            124683\n",
       "28.0                             11648         89309            152194\n",
       "29.0                              7137         62505            105828\n",
       "30.0                             64663       1581266           1421445"
      ]
     },
     "execution_count": 78,
     "metadata": {},
     "output_type": "execute_result"
    }
   ],
   "source": [
    "crosstab_9_4"
   ]
  },
  {
   "cell_type": "code",
   "execution_count": 79,
   "id": "6de1fe97",
   "metadata": {},
   "outputs": [
    {
     "data": {
      "image/png": "[encoded data removed]",
      "text/plain": [
       "<Figure size 640x480 with 1 Axes>"
      ]
     },
     "metadata": {},
     "output_type": "display_data"
    }
   ],
   "source": [
    "bar_return_orders = crosstab_9_4.plot.bar()"
   ]
  },
  {
   "cell_type": "code",
   "execution_count": 80,
   "id": "693cd298",
   "metadata": {},
   "outputs": [],
   "source": [
    "# Loyal customers have fewer days between orders (surpass regular customers up to 6 days since last order)."
   ]
  },
  {
   "cell_type": "code",
   "execution_count": 81,
   "id": "3a8cc4fd",
   "metadata": {},
   "outputs": [],
   "source": [
    "bar_frequency_flag_dep_id.figure.savefig(os.path.join(path, '04 Analysis','Visualizations', 'bar_frequency_flag_dep_id.png'))"
   ]
  },
  {
   "cell_type": "code",
   "execution_count": 82,
   "id": "17fd379c",
   "metadata": {},
   "outputs": [],
   "source": [
    "# Are there differences in ordering habits based on a customer’s loyalty status? * also see chart above! \n",
    "\n",
    "crosstab_9_5 = pd.crosstab(df['loyalty_flag'], df['spender_flag'], dropna = False)"
   ]
  },
  {
   "cell_type": "code",
   "execution_count": 83,
   "id": "b271c0ab",
   "metadata": {},
   "outputs": [
    {
     "data": {
      "text/html": [
       "<div>\n",
       "<style scoped>\n",
       "    .dataframe tbody tr th:only-of-type {\n",
       "        vertical-align: middle;\n",
       "    }\n",
       "\n",
       "    .dataframe tbody tr th {\n",
       "        vertical-align: top;\n",
       "    }\n",
       "\n",
       "    .dataframe thead th {\n",
       "        text-align: right;\n",
       "    }\n",
       "</style>\n",
       "<table border=\"1\" class=\"dataframe\">\n",
       "  <thead>\n",
       "    <tr style=\"text-align: right;\">\n",
       "      <th>spender_flag</th>\n",
       "      <th>High spender</th>\n",
       "      <th>Low spender</th>\n",
       "    </tr>\n",
       "    <tr>\n",
       "      <th>loyalty_flag</th>\n",
       "      <th></th>\n",
       "      <th></th>\n",
       "    </tr>\n",
       "  </thead>\n",
       "  <tbody>\n",
       "    <tr>\n",
       "      <th>Loyal customer</th>\n",
       "      <td>216600</td>\n",
       "      <td>10067493</td>\n",
       "    </tr>\n",
       "    <tr>\n",
       "      <th>New customer</th>\n",
       "      <td>114831</td>\n",
       "      <td>6129159</td>\n",
       "    </tr>\n",
       "    <tr>\n",
       "      <th>Regular customer</th>\n",
       "      <td>302814</td>\n",
       "      <td>15573962</td>\n",
       "    </tr>\n",
       "  </tbody>\n",
       "</table>\n",
       "</div>"
      ],
      "text/plain": [
       "spender_flag      High spender  Low spender\n",
       "loyalty_flag                               \n",
       "Loyal customer          216600     10067493\n",
       "New customer            114831      6129159\n",
       "Regular customer        302814     15573962"
      ]
     },
     "execution_count": 83,
     "metadata": {},
     "output_type": "execute_result"
    }
   ],
   "source": [
    "crosstab_9_5"
   ]
  },
  {
   "cell_type": "code",
   "execution_count": 84,
   "id": "567000fd",
   "metadata": {},
   "outputs": [
    {
     "data": {
      "image/png": "[encoded data removed]",
      "text/plain": [
       "<Figure size 640x480 with 1 Axes>"
      ]
     },
     "metadata": {},
     "output_type": "display_data"
    }
   ],
   "source": [
    "bar_loyalty_order = crosstab_9_5.plot.bar()"
   ]
  },
  {
   "cell_type": "code",
   "execution_count": 85,
   "id": "5c85af7a",
   "metadata": {},
   "outputs": [],
   "source": [
    "bar_loyalty_order.figure.savefig(os.path.join(path, '04 Analysis','Visualizations', 'bar_loyalty_order.png'))"
   ]
  },
  {
   "cell_type": "code",
   "execution_count": 86,
   "id": "5e7461a7",
   "metadata": {},
   "outputs": [],
   "source": [
    "# regular customers are the biggest spenders. No noticeable difference in high spenders. "
   ]
  },
  {
   "cell_type": "code",
   "execution_count": 87,
   "id": "31d73fcb",
   "metadata": {},
   "outputs": [],
   "source": [
    "# Are there differences in ordering habits based on a customer’s region?\n",
    "\n",
    "crosstab_9_6 = pd.crosstab(df['frequency_flag'], df['Customer_Region'], dropna = False)"
   ]
  },
  {
   "cell_type": "code",
   "execution_count": 88,
   "id": "f8702772",
   "metadata": {},
   "outputs": [
    {
     "data": {
      "image/png": "[encoded data removed]",
      "text/plain": [
       "<Figure size 640x480 with 1 Axes>"
      ]
     },
     "metadata": {},
     "output_type": "display_data"
    }
   ],
   "source": [
    "bar_frequency_regions = crosstab_9_6.plot.bar()"
   ]
  },
  {
   "cell_type": "code",
   "execution_count": 89,
   "id": "88cf231e",
   "metadata": {},
   "outputs": [],
   "source": [
    "bar_frequency_regions.figure.savefig(os.path.join(path, '04 Analysis','Visualizations', 'bar_frequency_regions.png'))"
   ]
  },
  {
   "cell_type": "code",
   "execution_count": 90,
   "id": "90dbd970",
   "metadata": {},
   "outputs": [],
   "source": [
    "# Is there a connection between age and family status in terms of ordering habits?\n",
    "# previously explored age grous and family status, but not with frequency flag\n",
    "crosstab_9_7 = pd.crosstab(df['age_groups'], df['frequency_flag'], dropna = False)"
   ]
  },
  {
   "cell_type": "code",
   "execution_count": 91,
   "id": "f21902d2",
   "metadata": {},
   "outputs": [
    {
     "data": {
      "text/html": [
       "<div>\n",
       "<style scoped>\n",
       "    .dataframe tbody tr th:only-of-type {\n",
       "        vertical-align: middle;\n",
       "    }\n",
       "\n",
       "    .dataframe tbody tr th {\n",
       "        vertical-align: top;\n",
       "    }\n",
       "\n",
       "    .dataframe thead th {\n",
       "        text-align: right;\n",
       "    }\n",
       "</style>\n",
       "<table border=\"1\" class=\"dataframe\">\n",
       "  <thead>\n",
       "    <tr style=\"text-align: right;\">\n",
       "      <th>frequency_flag</th>\n",
       "      <th>Frequent customer</th>\n",
       "      <th>Non-frequent customer</th>\n",
       "      <th>Regular customer</th>\n",
       "    </tr>\n",
       "    <tr>\n",
       "      <th>age_groups</th>\n",
       "      <th></th>\n",
       "      <th></th>\n",
       "      <th></th>\n",
       "    </tr>\n",
       "  </thead>\n",
       "  <tbody>\n",
       "    <tr>\n",
       "      <th>20-29</th>\n",
       "      <td>3379818</td>\n",
       "      <td>566315</td>\n",
       "      <td>1124228</td>\n",
       "    </tr>\n",
       "    <tr>\n",
       "      <th>30-39</th>\n",
       "      <td>3360842</td>\n",
       "      <td>563681</td>\n",
       "      <td>1149228</td>\n",
       "    </tr>\n",
       "    <tr>\n",
       "      <th>40-49</th>\n",
       "      <td>3405144</td>\n",
       "      <td>582095</td>\n",
       "      <td>1121998</td>\n",
       "    </tr>\n",
       "    <tr>\n",
       "      <th>50-59</th>\n",
       "      <td>3357577</td>\n",
       "      <td>566864</td>\n",
       "      <td>1139734</td>\n",
       "    </tr>\n",
       "    <tr>\n",
       "      <th>over_60</th>\n",
       "      <td>7376677</td>\n",
       "      <td>1241537</td>\n",
       "      <td>2449036</td>\n",
       "    </tr>\n",
       "    <tr>\n",
       "      <th>under_20</th>\n",
       "      <td>679795</td>\n",
       "      <td>115945</td>\n",
       "      <td>224340</td>\n",
       "    </tr>\n",
       "  </tbody>\n",
       "</table>\n",
       "</div>"
      ],
      "text/plain": [
       "frequency_flag  Frequent customer  Non-frequent customer  Regular customer\n",
       "age_groups                                                                \n",
       "20-29                     3379818                 566315           1124228\n",
       "30-39                     3360842                 563681           1149228\n",
       "40-49                     3405144                 582095           1121998\n",
       "50-59                     3357577                 566864           1139734\n",
       "over_60                   7376677                1241537           2449036\n",
       "under_20                   679795                 115945            224340"
      ]
     },
     "execution_count": 91,
     "metadata": {},
     "output_type": "execute_result"
    }
   ],
   "source": [
    "crosstab_9_7"
   ]
  },
  {
   "cell_type": "code",
   "execution_count": 92,
   "id": "722465a1",
   "metadata": {},
   "outputs": [
    {
     "data": {
      "image/png": "[encoded data removed]",
      "text/plain": [
       "<Figure size 640x480 with 1 Axes>"
      ]
     },
     "metadata": {},
     "output_type": "display_data"
    }
   ],
   "source": [
    "bar_frequency_age = crosstab_9_7.plot.bar()"
   ]
  },
  {
   "cell_type": "code",
   "execution_count": 93,
   "id": "00b24dfd",
   "metadata": {},
   "outputs": [],
   "source": [
    "bar_frequency_age.figure.savefig(os.path.join(path, '04 Analysis','Visualizations', 'bar_frequency_age.png'))"
   ]
  },
  {
   "cell_type": "code",
   "execution_count": 94,
   "id": "f7c1ecac",
   "metadata": {},
   "outputs": [],
   "source": [
    "crosstab_9_8 = pd.crosstab(df['fam_status'], df['frequency_flag'], dropna = False)"
   ]
  },
  {
   "cell_type": "code",
   "execution_count": 95,
   "id": "27384a7a",
   "metadata": {},
   "outputs": [
    {
     "data": {
      "text/html": [
       "<div>\n",
       "<style scoped>\n",
       "    .dataframe tbody tr th:only-of-type {\n",
       "        vertical-align: middle;\n",
       "    }\n",
       "\n",
       "    .dataframe tbody tr th {\n",
       "        vertical-align: top;\n",
       "    }\n",
       "\n",
       "    .dataframe thead th {\n",
       "        text-align: right;\n",
       "    }\n",
       "</style>\n",
       "<table border=\"1\" class=\"dataframe\">\n",
       "  <thead>\n",
       "    <tr style=\"text-align: right;\">\n",
       "      <th>frequency_flag</th>\n",
       "      <th>Frequent customer</th>\n",
       "      <th>Non-frequent customer</th>\n",
       "      <th>Regular customer</th>\n",
       "    </tr>\n",
       "    <tr>\n",
       "      <th>fam_status</th>\n",
       "      <th></th>\n",
       "      <th></th>\n",
       "      <th></th>\n",
       "    </tr>\n",
       "  </thead>\n",
       "  <tbody>\n",
       "    <tr>\n",
       "      <th>divorced/widowed</th>\n",
       "      <td>1852101</td>\n",
       "      <td>306903</td>\n",
       "      <td>612808</td>\n",
       "    </tr>\n",
       "    <tr>\n",
       "      <th>living with parents and siblings</th>\n",
       "      <td>1047100</td>\n",
       "      <td>175019</td>\n",
       "      <td>328484</td>\n",
       "    </tr>\n",
       "    <tr>\n",
       "      <th>married</th>\n",
       "      <td>15137381</td>\n",
       "      <td>2564637</td>\n",
       "      <td>5054730</td>\n",
       "    </tr>\n",
       "    <tr>\n",
       "      <th>single</th>\n",
       "      <td>3523271</td>\n",
       "      <td>589878</td>\n",
       "      <td>1212542</td>\n",
       "    </tr>\n",
       "  </tbody>\n",
       "</table>\n",
       "</div>"
      ],
      "text/plain": [
       "frequency_flag                    Frequent customer  Non-frequent customer  \\\n",
       "fam_status                                                                   \n",
       "divorced/widowed                            1852101                 306903   \n",
       "living with parents and siblings            1047100                 175019   \n",
       "married                                    15137381                2564637   \n",
       "single                                      3523271                 589878   \n",
       "\n",
       "frequency_flag                    Regular customer  \n",
       "fam_status                                          \n",
       "divorced/widowed                            612808  \n",
       "living with parents and siblings            328484  \n",
       "married                                    5054730  \n",
       "single                                     1212542  "
      ]
     },
     "execution_count": 95,
     "metadata": {},
     "output_type": "execute_result"
    }
   ],
   "source": [
    "crosstab_9_8"
   ]
  },
  {
   "cell_type": "code",
   "execution_count": 96,
   "id": "e0fb2d27",
   "metadata": {},
   "outputs": [
    {
     "data": {
      "image/png": "[encoded data removed]",
      "text/plain": [
       "<Figure size 640x480 with 1 Axes>"
      ]
     },
     "metadata": {},
     "output_type": "display_data"
    }
   ],
   "source": [
    "bar_frequency_fam_status = crosstab_9_8.plot.bar()"
   ]
  },
  {
   "cell_type": "code",
   "execution_count": 97,
   "id": "f4954b41",
   "metadata": {},
   "outputs": [],
   "source": [
    "bar_frequency_fam_status.figure.savefig(os.path.join(path, '04 Analysis','Visualizations', 'bar_frequency_fam_status.png'))"
   ]
  },
  {
   "cell_type": "code",
   "execution_count": 98,
   "id": "0ffbfeba",
   "metadata": {},
   "outputs": [],
   "source": [
    "# married customers are the most frequent customers as well. "
   ]
  },
  {
   "cell_type": "code",
   "execution_count": 99,
   "id": "7be0f4df",
   "metadata": {},
   "outputs": [],
   "source": [
    "crosstab_9_9 = pd.crosstab(df['fam_status'], df['Number_of_dependants'], dropna = False)"
   ]
  },
  {
   "cell_type": "code",
   "execution_count": 100,
   "id": "d715e7e6",
   "metadata": {},
   "outputs": [
    {
     "data": {
      "image/png": "[encoded data removed]",
      "text/plain": [
       "<Figure size 640x480 with 1 Axes>"
      ]
     },
     "metadata": {},
     "output_type": "display_data"
    }
   ],
   "source": [
    "bar_dep_fam_status = crosstab_9_9.plot.bar()"
   ]
  },
  {
   "cell_type": "code",
   "execution_count": 101,
   "id": "4b23135c",
   "metadata": {},
   "outputs": [],
   "source": [
    "bar_dep_fam_status.figure.savefig(os.path.join(path, '04 Analysis','Visualizations', 'bar_dep_fam_status.png'))"
   ]
  },
  {
   "cell_type": "code",
   "execution_count": 102,
   "id": "2abbe808",
   "metadata": {},
   "outputs": [],
   "source": [
    "crosstab_9_10 = pd.crosstab(df['age_groups'], df['revenue_exclusion_flag'], dropna = False)"
   ]
  },
  {
   "cell_type": "code",
   "execution_count": 103,
   "id": "1d39ff7d",
   "metadata": {},
   "outputs": [
    {
     "data": {
      "image/png": "[encoded data removed]",
      "text/plain": [
       "<Figure size 640x480 with 1 Axes>"
      ]
     },
     "metadata": {},
     "output_type": "display_data"
    }
   ],
   "source": [
    "bar_age_mean_order = crosstab_9_10.plot.bar()"
   ]
  },
  {
   "cell_type": "code",
   "execution_count": 104,
   "id": "2d60ef05",
   "metadata": {},
   "outputs": [],
   "source": [
    "bar_age_mean_order.figure.savefig(os.path.join(path, '04 Analysis','Visualizations', 'bar_age_mean_order.png'))"
   ]
  },
  {
   "cell_type": "code",
   "execution_count": 105,
   "id": "d1c51920",
   "metadata": {},
   "outputs": [
    {
     "ename": "SyntaxError",
     "evalue": "invalid character '‘' (U+2018) (1203444125.py, line 9)",
     "output_type": "error",
     "traceback": [
      "\u001b[1;36m  Cell \u001b[1;32mIn[105], line 9\u001b[1;36m\u001b[0m\n\u001b[1;33m    Caregivers: Having children does not correlate with lower income/wealth, both caregivers and non-caregivers have the highest population with ‘upper’ incomes over 100’000.\u001b[0m\n\u001b[1;37m                                                                                                                                                 ^\u001b[0m\n\u001b[1;31mSyntaxError\u001b[0m\u001b[1;31m:\u001b[0m invalid character '‘' (U+2018)\n"
     ]
    }
   ],
   "source": [
    "# What different classifications does the demographic information suggest? Age? Income? Certain types of goods? Family status?\n",
    "# What differences can you find in ordering habits of different customer profiles? Consider the price of orders, the frequency of orders, the products customers are ordering, and anything else you can think of.\n",
    "\n",
    "Age: The least caregivers are under the age of 20, most are 20+ with the highest population being 60+. \n",
    "Age: Highest incomes (wealth) in the age groups over 40 years. \n",
    "Age: High-activity customers across all ages, with >60 being the biggest group, and <20 the smallest. \n",
    "Age: Charts do not show any indication of age affecting alcohol or meat purchases. \n",
    "Age: At any age, the biggest customer base are frequent customers followed by regular customers. \n",
    "Caregivers: Having children does not correlate with lower income/wealth, both caregivers and non-caregivers have the highest population with ‘upper’ incomes over 100’000. \n",
    "Same with analyzing wealth within meat/alcohol departments, the non-consumers and consumers alike have the highest populations in the ‘upper’ wealth category.\n",
    "Caregivers are mostly married or living with family, and there are similar amounts of customers with 1, 2, or 3 children. \n",
    "Customers who are married are the biggest group, and fall into ‘upper’ or ‘middle’ wealth categories, same as divorced customers. \n",
    "Customers who are single or living with family are mostly in the ‘middle’ wealth category. \n",
    "Customers in all family situations are most likely to be frequent customers, married customers being the biggest group. \n",
    "Customers in all age groups, in all family situations, caregivers or non-caregivers, spend similar amounts of money on orders and purchase similarly priced products. They also have similar timeframes between orders. \n",
    "Customers in lower wealth category spend less (15.9 vs. 17.3) on average on orders, and order less expensive products (6.7 vs. 7.9) than customers with middle or upper wealth categories, however, the average timeframe between orders is similar. \n",
    "Regions: South region is the biggest and leads sales in all departments, followed by West and Midwest. This could be attributed to population size.\n",
    "Regions: throughout all regions, the biggest customer base is frequent customers.  \n",
    "Orders tend to be best on Saturdays and Sundays, and during daytime hours (starting around 7am into evening hours) with a peak at 10am as previously analyzed. \n",
    "Mid-range products sell best, followed by low-range products, consistent throughout the day. \n",
    "Frequent customers purchase staples such as produce, dairy, and snacks, and they are the biggest customers followed by regular customers. New customers make up the smallest customer base. \n",
    "Loyal customers purchase more frequently (within 5 days), and regular customers re-purchase most between 6 and 29 days after their orders. Most customers are categorized as ‘low spenders’ as well. \n"
   ]
  },
  {
   "cell_type": "code",
   "execution_count": null,
   "id": "bb4355ff",
   "metadata": {},
   "outputs": [],
   "source": [
    "df.to_pickle(os.path.join(path, '02 Data','Prepared Data', 'df_final.pkl'))"
   ]
  }
 ],
 "metadata": {
  "kernelspec": {
   "display_name": "Python 3 (ipykernel)",
   "language": "python",
   "name": "python3"
  },
  "language_info": {
   "codemirror_mode": {
    "name": "ipython",
    "version": 3
   },
   "file_extension": ".py",
   "mimetype": "text/x-python",
   "name": "python",
   "nbconvert_exporter": "python",
   "pygments_lexer": "ipython3",
   "version": "3.10.9"
  }
 },
 "nbformat": 4,
 "nbformat_minor": 5
}
